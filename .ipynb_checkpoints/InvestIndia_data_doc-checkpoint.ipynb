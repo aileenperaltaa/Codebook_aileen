{
 "cells": [
  {
   "cell_type": "code",
   "execution_count": 1,
   "metadata": {},
   "outputs": [],
   "source": [
    "import numpy as np \n",
    "import pandas as pd\n",
    "import matplotlib.pyplot as plt"
   ]
  },
  {
   "cell_type": "code",
   "execution_count": 2,
   "metadata": {},
   "outputs": [],
   "source": [
    "investindia = pd.read_csv('InvestIndia.csv')"
   ]
  },
  {
   "cell_type": "markdown",
   "metadata": {},
   "source": [
    "**Data provided by:** InvestIndia <br>\n",
    "**Source:** <br>\n",
    "**Type:** csv<br>\n",
    "**Last Modified:** October 31, <br>\n",
    "**Size:** \n",
    "\n",
    "- ```Name```: NGO Name\n",
    "- ```Description```: NGO description\n",
    "- ```State```: State of NGO\n",
    "- ```Contact```: Contact of the NGO\n",
    "- ```Email```: Email of the NGO"
   ]
  },
  {
   "cell_type": "code",
   "execution_count": 3,
   "metadata": {},
   "outputs": [
    {
     "data": {
      "text/html": [
       "<div>\n",
       "<style scoped>\n",
       "    .dataframe tbody tr th:only-of-type {\n",
       "        vertical-align: middle;\n",
       "    }\n",
       "\n",
       "    .dataframe tbody tr th {\n",
       "        vertical-align: top;\n",
       "    }\n",
       "\n",
       "    .dataframe thead th {\n",
       "        text-align: right;\n",
       "    }\n",
       "</style>\n",
       "<table border=\"1\" class=\"dataframe\">\n",
       "  <thead>\n",
       "    <tr style=\"text-align: right;\">\n",
       "      <th></th>\n",
       "      <th>Name</th>\n",
       "      <th>Description</th>\n",
       "      <th>State</th>\n",
       "      <th>Contact</th>\n",
       "      <th>Email</th>\n",
       "    </tr>\n",
       "  </thead>\n",
       "  <tbody>\n",
       "    <tr>\n",
       "      <th>0</th>\n",
       "      <td>Mission Oxygen</td>\n",
       "      <td>Mission Oxygen began as a overnight initiative...</td>\n",
       "      <td>Delhi NCR</td>\n",
       "      <td>https://www.ketto.org/fundraiser/mission-oxyge...</td>\n",
       "      <td>NaN</td>\n",
       "    </tr>\n",
       "    <tr>\n",
       "      <th>1</th>\n",
       "      <td>Gautam Gambhir Foundation</td>\n",
       "      <td>The Gautam Gambhir Foundation is extending the...</td>\n",
       "      <td>Delhi NCR</td>\n",
       "      <td>https://gautamgambhirfoundation.org/donate/\\n ...</td>\n",
       "      <td>info@gautamgambhirfoundation.org</td>\n",
       "    </tr>\n",
       "    <tr>\n",
       "      <th>2</th>\n",
       "      <td>Mazdoor Kitchen</td>\n",
       "      <td>Mazdoor Kitchen is a citizen run voluntary ini...</td>\n",
       "      <td>Delhi (North)</td>\n",
       "      <td>https://www.ketto.org/fundraiser/mazdoorkitche...</td>\n",
       "      <td>NaN</td>\n",
       "    </tr>\n",
       "    <tr>\n",
       "      <th>3</th>\n",
       "      <td>Breathe India</td>\n",
       "      <td>A group of IIT alumni, in coordination with Sa...</td>\n",
       "      <td>Delhi NCR</td>\n",
       "      <td>https://milaap.org/fundraisers/support-arrange...</td>\n",
       "      <td>ashu95.ranka@gmail.com</td>\n",
       "    </tr>\n",
       "    <tr>\n",
       "      <th>4</th>\n",
       "      <td>Chikka Foundation</td>\n",
       "      <td>Chikka Federation is a United Nations accredit...</td>\n",
       "      <td>Delhi, Bihar</td>\n",
       "      <td>http://www.chikkafederation.org/</td>\n",
       "      <td>: Santosh Kumar ,: 9570716800</td>\n",
       "    </tr>\n",
       "  </tbody>\n",
       "</table>\n",
       "</div>"
      ],
      "text/plain": [
       "                        Name  \\\n",
       "0             Mission Oxygen   \n",
       "1  Gautam Gambhir Foundation   \n",
       "2           Mazdoor Kitchen    \n",
       "3              Breathe India   \n",
       "4          Chikka Foundation   \n",
       "\n",
       "                                         Description          State  \\\n",
       "0  Mission Oxygen began as a overnight initiative...      Delhi NCR   \n",
       "1  The Gautam Gambhir Foundation is extending the...      Delhi NCR   \n",
       "2  Mazdoor Kitchen is a citizen run voluntary ini...  Delhi (North)   \n",
       "3  A group of IIT alumni, in coordination with Sa...      Delhi NCR   \n",
       "4  Chikka Federation is a United Nations accredit...   Delhi, Bihar   \n",
       "\n",
       "                                             Contact  \\\n",
       "0  https://www.ketto.org/fundraiser/mission-oxyge...   \n",
       "1  https://gautamgambhirfoundation.org/donate/\\n ...   \n",
       "2  https://www.ketto.org/fundraiser/mazdoorkitche...   \n",
       "3  https://milaap.org/fundraisers/support-arrange...   \n",
       "4                   http://www.chikkafederation.org/   \n",
       "\n",
       "                              Email  \n",
       "0                               NaN  \n",
       "1  info@gautamgambhirfoundation.org  \n",
       "2                               NaN  \n",
       "3            ashu95.ranka@gmail.com  \n",
       "4     : Santosh Kumar ,: 9570716800  "
      ]
     },
     "execution_count": 3,
     "metadata": {},
     "output_type": "execute_result"
    }
   ],
   "source": [
    "investindia.head()"
   ]
  },
  {
   "cell_type": "code",
   "execution_count": 4,
   "metadata": {},
   "outputs": [
    {
     "name": "stdout",
     "output_type": "stream",
     "text": [
      "<class 'pandas.core.frame.DataFrame'>\n",
      "RangeIndex: 34 entries, 0 to 33\n",
      "Data columns (total 5 columns):\n",
      " #   Column       Non-Null Count  Dtype \n",
      "---  ------       --------------  ----- \n",
      " 0   Name         34 non-null     object\n",
      " 1   Description  34 non-null     object\n",
      " 2   State        34 non-null     object\n",
      " 3   Contact      34 non-null     object\n",
      " 4   Email        26 non-null     object\n",
      "dtypes: object(5)\n",
      "memory usage: 1.5+ KB\n"
     ]
    }
   ],
   "source": [
    "investindia.info()"
   ]
  },
  {
   "cell_type": "markdown",
   "metadata": {},
   "source": [
    "The columns are object type. We might want to convert them to string type."
   ]
  },
  {
   "cell_type": "code",
   "execution_count": 5,
   "metadata": {},
   "outputs": [
    {
     "data": {
      "text/html": [
       "<div>\n",
       "<style scoped>\n",
       "    .dataframe tbody tr th:only-of-type {\n",
       "        vertical-align: middle;\n",
       "    }\n",
       "\n",
       "    .dataframe tbody tr th {\n",
       "        vertical-align: top;\n",
       "    }\n",
       "\n",
       "    .dataframe thead th {\n",
       "        text-align: right;\n",
       "    }\n",
       "</style>\n",
       "<table border=\"1\" class=\"dataframe\">\n",
       "  <thead>\n",
       "    <tr style=\"text-align: right;\">\n",
       "      <th></th>\n",
       "      <th>Name</th>\n",
       "      <th>Description</th>\n",
       "      <th>State</th>\n",
       "      <th>Contact</th>\n",
       "      <th>Email</th>\n",
       "    </tr>\n",
       "  </thead>\n",
       "  <tbody>\n",
       "    <tr>\n",
       "      <th>count</th>\n",
       "      <td>34</td>\n",
       "      <td>34</td>\n",
       "      <td>34</td>\n",
       "      <td>34</td>\n",
       "      <td>26</td>\n",
       "    </tr>\n",
       "    <tr>\n",
       "      <th>unique</th>\n",
       "      <td>34</td>\n",
       "      <td>34</td>\n",
       "      <td>28</td>\n",
       "      <td>34</td>\n",
       "      <td>26</td>\n",
       "    </tr>\n",
       "    <tr>\n",
       "      <th>top</th>\n",
       "      <td>Hemkunt Foundation</td>\n",
       "      <td>Khaana Chahiye Foundation started as a citizen...</td>\n",
       "      <td>Mumbai</td>\n",
       "      <td>https://pages.razorpay.com/zfi-oxygen\\n  https...</td>\n",
       "      <td>feedback@milaap.org</td>\n",
       "    </tr>\n",
       "    <tr>\n",
       "      <th>freq</th>\n",
       "      <td>1</td>\n",
       "      <td>1</td>\n",
       "      <td>4</td>\n",
       "      <td>1</td>\n",
       "      <td>1</td>\n",
       "    </tr>\n",
       "  </tbody>\n",
       "</table>\n",
       "</div>"
      ],
      "text/plain": [
       "                      Name                                        Description  \\\n",
       "count                   34                                                 34   \n",
       "unique                  34                                                 34   \n",
       "top     Hemkunt Foundation  Khaana Chahiye Foundation started as a citizen...   \n",
       "freq                     1                                                  1   \n",
       "\n",
       "         State                                            Contact  \\\n",
       "count       34                                                 34   \n",
       "unique      28                                                 34   \n",
       "top     Mumbai  https://pages.razorpay.com/zfi-oxygen\\n  https...   \n",
       "freq         4                                                  1   \n",
       "\n",
       "                      Email  \n",
       "count                    26  \n",
       "unique                   26  \n",
       "top     feedback@milaap.org  \n",
       "freq                      1  "
      ]
     },
     "execution_count": 5,
     "metadata": {},
     "output_type": "execute_result"
    }
   ],
   "source": [
    "investindia.describe()"
   ]
  },
  {
   "cell_type": "code",
   "execution_count": 6,
   "metadata": {},
   "outputs": [
    {
     "name": "stdout",
     "output_type": "stream",
     "text": [
      "Shape: (34, 5)\n",
      "Rows: 34\n",
      "Columns: 5\n",
      "Each row is an NGO.\n"
     ]
    }
   ],
   "source": [
    "print(\"Shape:\", investindia.shape)\n",
    "print(\"Rows:\", investindia.shape[0])\n",
    "print(\"Columns:\", investindia.shape[1])\n",
    "print(\"Each row is an NGO.\")"
   ]
  },
  {
   "cell_type": "markdown",
   "metadata": {},
   "source": [
    "The table has 34 NGO's."
   ]
  },
  {
   "cell_type": "markdown",
   "metadata": {},
   "source": [
    "## Missing Values"
   ]
  },
  {
   "cell_type": "code",
   "execution_count": 20,
   "metadata": {},
   "outputs": [
    {
     "name": "stdout",
     "output_type": "stream",
     "text": [
      "Total Missing Values:\n",
      " Name           0\n",
      "Description    0\n",
      "State          0\n",
      "Contact        0\n",
      "Email          8\n",
      "dtype: int64\n"
     ]
    }
   ],
   "source": [
    "missing_values_investindia = investindia.isna().sum()\n",
    "print('Total Missing Values:\\n', missing_values_investindia)"
   ]
  },
  {
   "cell_type": "markdown",
   "metadata": {},
   "source": [
    "Email has 8 missing values."
   ]
  },
  {
   "cell_type": "code",
   "execution_count": 8,
   "metadata": {},
   "outputs": [
    {
     "data": {
      "text/plain": [
       "Index(['Name', 'Description', 'State', 'Contact', 'Email'], dtype='object')"
      ]
     },
     "execution_count": 8,
     "metadata": {},
     "output_type": "execute_result"
    }
   ],
   "source": [
    "investindia.columns"
   ]
  },
  {
   "cell_type": "markdown",
   "metadata": {},
   "source": [
    "## Name"
   ]
  },
  {
   "cell_type": "code",
   "execution_count": 9,
   "metadata": {},
   "outputs": [
    {
     "data": {
      "text/plain": [
       "0               Mission Oxygen\n",
       "1    Gautam Gambhir Foundation\n",
       "2             Mazdoor Kitchen \n",
       "3                Breathe India\n",
       "4            Chikka Foundation\n",
       "Name: Name, dtype: object"
      ]
     },
     "execution_count": 9,
     "metadata": {},
     "output_type": "execute_result"
    }
   ],
   "source": [
    "investindia['Name'].head()"
   ]
  },
  {
   "cell_type": "code",
   "execution_count": 10,
   "metadata": {},
   "outputs": [
    {
     "data": {
      "text/plain": [
       "Hemkunt Foundation                              1\n",
       "Access Foundation                               1\n",
       "Spoorthi Foundation- Coronavarus Relief Fund    1\n",
       "PayTM Foundation                                1\n",
       "Gautam Gambhir Foundation                       1\n",
       "Name: Name, dtype: int64"
      ]
     },
     "execution_count": 10,
     "metadata": {},
     "output_type": "execute_result"
    }
   ],
   "source": [
    "investindia[\"Name\"].value_counts(ascending=False).head()"
   ]
  },
  {
   "cell_type": "markdown",
   "metadata": {},
   "source": [
    "We have all unique NGO names."
   ]
  },
  {
   "cell_type": "markdown",
   "metadata": {},
   "source": [
    "## Description"
   ]
  },
  {
   "cell_type": "code",
   "execution_count": 11,
   "metadata": {},
   "outputs": [
    {
     "data": {
      "text/plain": [
       "0    Mission Oxygen began as a overnight initiative...\n",
       "1    The Gautam Gambhir Foundation is extending the...\n",
       "2    Mazdoor Kitchen is a citizen run voluntary ini...\n",
       "3    A group of IIT alumni, in coordination with Sa...\n",
       "4    Chikka Federation is a United Nations accredit...\n",
       "Name: Description, dtype: object"
      ]
     },
     "execution_count": 11,
     "metadata": {},
     "output_type": "execute_result"
    }
   ],
   "source": [
    "investindia['Description'].head()"
   ]
  },
  {
   "cell_type": "code",
   "execution_count": 23,
   "metadata": {},
   "outputs": [
    {
     "data": {
      "text/plain": [
       "0      521\n",
       "1      156\n",
       "2      337\n",
       "3      170\n",
       "4      419\n",
       "5      871\n",
       "6      606\n",
       "7      236\n",
       "8      244\n",
       "9      552\n",
       "10     458\n",
       "11     195\n",
       "12     344\n",
       "13     256\n",
       "14     270\n",
       "15     250\n",
       "16      83\n",
       "17     369\n",
       "18     350\n",
       "19     112\n",
       "20     174\n",
       "21     777\n",
       "22     235\n",
       "23     337\n",
       "24     160\n",
       "25     759\n",
       "26     220\n",
       "27     200\n",
       "28     292\n",
       "29     370\n",
       "30     427\n",
       "31    1201\n",
       "32     237\n",
       "33     178\n",
       "Name: Description, dtype: int64"
      ]
     },
     "execution_count": 23,
     "metadata": {},
     "output_type": "execute_result"
    }
   ],
   "source": [
    "investindia['Description'].str.len()"
   ]
  },
  {
   "cell_type": "code",
   "execution_count": 28,
   "metadata": {},
   "outputs": [
    {
     "data": {
      "text/plain": [
       "'The Akshaya Patra Foundation is an NGO in India headquartered in Bengaluru. Our organization strives to eliminate classroom hunger by implementing the Mid-Day Meal Scheme in the government schools and government-aided schools. Alongside, Akshaya Patra also aims at countering malnutrition and supporting the right to education of socio-economically disadvantaged children. Since 2000, Akshaya Patra has been concerting all its efforts towards providing fresh and nutritious meals to children on every single school day. We are continuously leveraging technology to multiply our reach. The state-of-the-art kitchens have become a subject of study and have attracted curious visitors from around the world. Partnership with the Government of India and various State Governments, along with the persistent support from corporates, individual donors, and well-wishers have helped them to grow from serving just 1,500 children in 5 schools in 2000 to serving 1.8 million children. Today, Akshaya Patra is the world’s largest (not-for-profit run) Mid-Day Meal Programme serving wholesome food every school day to over 1.8 million children from 19,039 schools across 12 states & 2 Union territories of India.'"
      ]
     },
     "execution_count": 28,
     "metadata": {},
     "output_type": "execute_result"
    }
   ],
   "source": [
    "investindia.loc[31, ]['Description']"
   ]
  },
  {
   "cell_type": "code",
   "execution_count": 29,
   "metadata": {},
   "outputs": [
    {
     "data": {
      "text/plain": [
       "'Khalsa Aid international is providing free oxygen concentrators to COVID patients.\\xa0'"
      ]
     },
     "execution_count": 29,
     "metadata": {},
     "output_type": "execute_result"
    }
   ],
   "source": [
    "investindia.loc[16, ]['Description']"
   ]
  },
  {
   "cell_type": "markdown",
   "metadata": {},
   "source": [
    "We can see how long the NGO description is. The min decription has 83 words. The max description has 1201 words."
   ]
  },
  {
   "cell_type": "markdown",
   "metadata": {},
   "source": [
    "## State"
   ]
  },
  {
   "cell_type": "code",
   "execution_count": 30,
   "metadata": {},
   "outputs": [
    {
     "data": {
      "text/plain": [
       "0        Delhi NCR\n",
       "1        Delhi NCR\n",
       "2    Delhi (North)\n",
       "3        Delhi NCR\n",
       "4     Delhi, Bihar\n",
       "Name: State, dtype: object"
      ]
     },
     "execution_count": 30,
     "metadata": {},
     "output_type": "execute_result"
    }
   ],
   "source": [
    "investindia['State'].head()"
   ]
  },
  {
   "cell_type": "code",
   "execution_count": 33,
   "metadata": {},
   "outputs": [
    {
     "data": {
      "text/plain": [
       "Mumbai                            4\n",
       "Delhi NCR                         3\n",
       "PAN India                         2\n",
       "Delhi (North)                     1\n",
       "Mumbai, Delhi, Bengaluru, Pune    1\n",
       "Name: State, dtype: int64"
      ]
     },
     "execution_count": 33,
     "metadata": {},
     "output_type": "execute_result"
    }
   ],
   "source": [
    "investindia[\"State\"].value_counts(ascending=False).head()"
   ]
  },
  {
   "cell_type": "code",
   "execution_count": 15,
   "metadata": {},
   "outputs": [
    {
     "data": {
      "image/png": "[encoded data removed]",
      "text/plain": [
       "<Figure size 432x288 with 1 Axes>"
      ]
     },
     "metadata": {
      "needs_background": "light"
     },
     "output_type": "display_data"
    }
   ],
   "source": [
    "investindia[\"State\"].value_counts(ascending=False).plot(kind = 'barh')\n",
    "plt.show()"
   ]
  },
  {
   "cell_type": "markdown",
   "metadata": {},
   "source": [
    "## Contact"
   ]
  },
  {
   "cell_type": "code",
   "execution_count": 16,
   "metadata": {},
   "outputs": [
    {
     "data": {
      "text/plain": [
       "0    https://www.ketto.org/fundraiser/mission-oxyge...\n",
       "1    https://gautamgambhirfoundation.org/donate/\\n ...\n",
       "2    https://www.ketto.org/fundraiser/mazdoorkitche...\n",
       "3    https://milaap.org/fundraisers/support-arrange...\n",
       "4                     http://www.chikkafederation.org/\n",
       "Name: Contact, dtype: object"
      ]
     },
     "execution_count": 16,
     "metadata": {},
     "output_type": "execute_result"
    }
   ],
   "source": [
    "investindia['Contact'].head()"
   ]
  },
  {
   "cell_type": "code",
   "execution_count": 17,
   "metadata": {},
   "outputs": [
    {
     "data": {
      "text/plain": [
       "https://pages.razorpay.com/zfi-oxygen\\n  https://www.feedingindia.org/                                                                                                         1\n",
       "https://pages.razorpay.com/pl_H1F8zUWh1CWF8p/view\\n  https://makingthedifference.in/                                                                                           1\n",
       "https://actgrants.in/donate/\\n  https://actgrants.in/                                                                                                                          1\n",
       " https://www.donatekart.com/Hemkunt-Foundation/Give-Oxygen-Cylinders?utm_source=facebook&utm_medium=cpc&utm_campaign=2834_hemkunt\\n  https://hemkuntfoundation.com/contact/    1\n",
       "https://mcksfood.com/donate\\n  https://mcksfood.com/                                                                                                                           1\n",
       "Name: Contact, dtype: int64"
      ]
     },
     "execution_count": 17,
     "metadata": {},
     "output_type": "execute_result"
    }
   ],
   "source": [
    "investindia[\"Contact\"].value_counts(ascending=False).head()"
   ]
  },
  {
   "cell_type": "markdown",
   "metadata": {},
   "source": [
    "## Email"
   ]
  },
  {
   "cell_type": "code",
   "execution_count": 18,
   "metadata": {},
   "outputs": [
    {
     "data": {
      "text/plain": [
       "0                                 NaN\n",
       "1    info@gautamgambhirfoundation.org\n",
       "2                                 NaN\n",
       "3              ashu95.ranka@gmail.com\n",
       "4       : Santosh Kumar ,: 9570716800\n",
       "Name: Email, dtype: object"
      ]
     },
     "execution_count": 18,
     "metadata": {},
     "output_type": "execute_result"
    }
   ],
   "source": [
    "investindia['Email'].head()"
   ]
  },
  {
   "cell_type": "code",
   "execution_count": 36,
   "metadata": {},
   "outputs": [
    {
     "data": {
      "text/plain": [
       "0    https://www.ketto.org/fundraiser/mission-oxyge...\n",
       "1    https://gautamgambhirfoundation.org/donate/\\n ...\n",
       "2    https://www.ketto.org/fundraiser/mazdoorkitche...\n",
       "3    https://milaap.org/fundraisers/support-arrange...\n",
       "4                     http://www.chikkafederation.org/\n",
       "Name: Contact, dtype: object"
      ]
     },
     "execution_count": 36,
     "metadata": {},
     "output_type": "execute_result"
    }
   ],
   "source": [
    "investindia['Contact'].head()"
   ]
  },
  {
   "cell_type": "markdown",
   "metadata": {},
   "source": [
    "The first organization that does not have an email has a Contact Us tab on their website. The first two NaN emails have a website on crowdfunding which is a website where you can start fundraisers."
   ]
  },
  {
   "cell_type": "code",
   "execution_count": 37,
   "metadata": {},
   "outputs": [
    {
     "data": {
      "text/html": [
       "<div>\n",
       "<style scoped>\n",
       "    .dataframe tbody tr th:only-of-type {\n",
       "        vertical-align: middle;\n",
       "    }\n",
       "\n",
       "    .dataframe tbody tr th {\n",
       "        vertical-align: top;\n",
       "    }\n",
       "\n",
       "    .dataframe thead th {\n",
       "        text-align: right;\n",
       "    }\n",
       "</style>\n",
       "<table border=\"1\" class=\"dataframe\">\n",
       "  <thead>\n",
       "    <tr style=\"text-align: right;\">\n",
       "      <th></th>\n",
       "      <th>Name</th>\n",
       "      <th>Description</th>\n",
       "      <th>State</th>\n",
       "      <th>Contact</th>\n",
       "      <th>Email</th>\n",
       "    </tr>\n",
       "  </thead>\n",
       "  <tbody>\n",
       "    <tr>\n",
       "      <th>0</th>\n",
       "      <td>Mission Oxygen</td>\n",
       "      <td>Mission Oxygen began as a overnight initiative...</td>\n",
       "      <td>Delhi NCR</td>\n",
       "      <td>https://www.ketto.org/fundraiser/mission-oxyge...</td>\n",
       "      <td>NaN</td>\n",
       "    </tr>\n",
       "    <tr>\n",
       "      <th>2</th>\n",
       "      <td>Mazdoor Kitchen</td>\n",
       "      <td>Mazdoor Kitchen is a citizen run voluntary ini...</td>\n",
       "      <td>Delhi (North)</td>\n",
       "      <td>https://www.ketto.org/fundraiser/mazdoorkitche...</td>\n",
       "      <td>NaN</td>\n",
       "    </tr>\n",
       "    <tr>\n",
       "      <th>5</th>\n",
       "      <td>Access Foundation</td>\n",
       "      <td>Access Foundation a  registered NGO u/s 12AA a...</td>\n",
       "      <td>Hyderabad</td>\n",
       "      <td>https://accessfoundation.in/donation</td>\n",
       "      <td>NaN</td>\n",
       "    </tr>\n",
       "    <tr>\n",
       "      <th>21</th>\n",
       "      <td>Help Now - Ambulance Services</td>\n",
       "      <td>HelpNow was started by 3 IITians Aditya Makkar...</td>\n",
       "      <td>Mumbai, Delhi, Bengaluru, Pune</td>\n",
       "      <td>https://www.ketto.org/fundraiser/getHelpNow\\n ...</td>\n",
       "      <td>NaN</td>\n",
       "    </tr>\n",
       "    <tr>\n",
       "      <th>23</th>\n",
       "      <td>KVN Foundation</td>\n",
       "      <td>KVN Foundation is supplying free oxygen concen...</td>\n",
       "      <td>Bangalore, Chennai, Hyderabad, Mumbai, and Noida.</td>\n",
       "      <td>https://fundraisers.giveindia.org/nonprofits/k...</td>\n",
       "      <td>NaN</td>\n",
       "    </tr>\n",
       "    <tr>\n",
       "      <th>26</th>\n",
       "      <td>Goonj Rahat COVID</td>\n",
       "      <td>Goonj aims to build an equitable relationship ...</td>\n",
       "      <td>Bengaluru, Chennai, Delhi, Hyderabad, Kochi, K...</td>\n",
       "      <td>https://goonj.org/donate/\\n  https://goonj.org...</td>\n",
       "      <td>NaN</td>\n",
       "    </tr>\n",
       "    <tr>\n",
       "      <th>32</th>\n",
       "      <td>PayTM Foundation</td>\n",
       "      <td>Paytm’s not-for-profit entity Paytm Foundation...</td>\n",
       "      <td>PAN India</td>\n",
       "      <td>https://paytm.com/offer/donate-oxygen?utm_sour...</td>\n",
       "      <td>NaN</td>\n",
       "    </tr>\n",
       "    <tr>\n",
       "      <th>33</th>\n",
       "      <td>Zomato Feeding India</td>\n",
       "      <td>Zomato's not-for-profit arm Feeding India has ...</td>\n",
       "      <td>PAN India</td>\n",
       "      <td>https://pages.razorpay.com/zfi-oxygen\\n  https...</td>\n",
       "      <td>NaN</td>\n",
       "    </tr>\n",
       "  </tbody>\n",
       "</table>\n",
       "</div>"
      ],
      "text/plain": [
       "                             Name  \\\n",
       "0                  Mission Oxygen   \n",
       "2                Mazdoor Kitchen    \n",
       "5               Access Foundation   \n",
       "21  Help Now - Ambulance Services   \n",
       "23                 KVN Foundation   \n",
       "26              Goonj Rahat COVID   \n",
       "32               PayTM Foundation   \n",
       "33           Zomato Feeding India   \n",
       "\n",
       "                                          Description  \\\n",
       "0   Mission Oxygen began as a overnight initiative...   \n",
       "2   Mazdoor Kitchen is a citizen run voluntary ini...   \n",
       "5   Access Foundation a  registered NGO u/s 12AA a...   \n",
       "21  HelpNow was started by 3 IITians Aditya Makkar...   \n",
       "23  KVN Foundation is supplying free oxygen concen...   \n",
       "26  Goonj aims to build an equitable relationship ...   \n",
       "32  Paytm’s not-for-profit entity Paytm Foundation...   \n",
       "33  Zomato's not-for-profit arm Feeding India has ...   \n",
       "\n",
       "                                                State  \\\n",
       "0                                           Delhi NCR   \n",
       "2                                       Delhi (North)   \n",
       "5                                           Hyderabad   \n",
       "21                     Mumbai, Delhi, Bengaluru, Pune   \n",
       "23  Bangalore, Chennai, Hyderabad, Mumbai, and Noida.   \n",
       "26  Bengaluru, Chennai, Delhi, Hyderabad, Kochi, K...   \n",
       "32                                          PAN India   \n",
       "33                                          PAN India   \n",
       "\n",
       "                                              Contact Email  \n",
       "0   https://www.ketto.org/fundraiser/mission-oxyge...   NaN  \n",
       "2   https://www.ketto.org/fundraiser/mazdoorkitche...   NaN  \n",
       "5                https://accessfoundation.in/donation   NaN  \n",
       "21  https://www.ketto.org/fundraiser/getHelpNow\\n ...   NaN  \n",
       "23  https://fundraisers.giveindia.org/nonprofits/k...   NaN  \n",
       "26  https://goonj.org/donate/\\n  https://goonj.org...   NaN  \n",
       "32  https://paytm.com/offer/donate-oxygen?utm_sour...   NaN  \n",
       "33  https://pages.razorpay.com/zfi-oxygen\\n  https...   NaN  "
      ]
     },
     "execution_count": 37,
     "metadata": {},
     "output_type": "execute_result"
    }
   ],
   "source": [
    "investindia[investindia['Email'].isna()]"
   ]
  },
  {
   "cell_type": "code",
   "execution_count": 38,
   "metadata": {},
   "outputs": [
    {
     "data": {
      "text/plain": [
       "0     https://www.ketto.org/fundraiser/mission-oxyge...\n",
       "2     https://www.ketto.org/fundraiser/mazdoorkitche...\n",
       "5                  https://accessfoundation.in/donation\n",
       "21    https://www.ketto.org/fundraiser/getHelpNow\\n ...\n",
       "23    https://fundraisers.giveindia.org/nonprofits/k...\n",
       "26    https://goonj.org/donate/\\n  https://goonj.org...\n",
       "32    https://paytm.com/offer/donate-oxygen?utm_sour...\n",
       "33    https://pages.razorpay.com/zfi-oxygen\\n  https...\n",
       "Name: Contact, dtype: object"
      ]
     },
     "execution_count": 38,
     "metadata": {},
     "output_type": "execute_result"
    }
   ],
   "source": [
    "investindia[investindia['Email'].isna()]['Contact']"
   ]
  },
  {
   "cell_type": "markdown",
   "metadata": {},
   "source": [
    "1. when I click it says campaign not found\n",
    "2. when I click it says campaign not found\n",
    "3. email is on their website in contact us\n",
    "4. when I click it says campaign not found\n",
    "5. page not found . also a fundraiser website\n",
    "6. email is on their website in contact us\n",
    "7. no email. website looks like google form for contribution\n",
    "8. not found"
   ]
  },
  {
   "cell_type": "code",
   "execution_count": 19,
   "metadata": {},
   "outputs": [
    {
     "data": {
      "text/plain": [
       "feedback@milaap.org               1\n",
       "team@enrichlivesfoundation.org    1\n",
       "planindia@planindia.org           1\n",
       "ashu95.ranka@gmail.com            1\n",
       "hemkuntfoundation13@gmail.com     1\n",
       "Name: Email, dtype: int64"
      ]
     },
     "execution_count": 19,
     "metadata": {},
     "output_type": "execute_result"
    }
   ],
   "source": [
    "investindia[\"Email\"].value_counts(ascending=False).head()"
   ]
  },
  {
   "cell_type": "markdown",
   "metadata": {},
   "source": [
    "A few companies do not have an email. We can leave them empty or check if other websites have an email."
   ]
  }
 ],
 "metadata": {
  "kernelspec": {
   "display_name": "Python 3",
   "language": "python",
   "name": "python3"
  },
  "language_info": {
   "codemirror_mode": {
    "name": "ipython",
    "version": 3
   },
   "file_extension": ".py",
   "mimetype": "text/x-python",
   "name": "python",
   "nbconvert_exporter": "python",
   "pygments_lexer": "ipython3",
   "version": "3.8.3"
  }
 },
 "nbformat": 4,
 "nbformat_minor": 4
}
