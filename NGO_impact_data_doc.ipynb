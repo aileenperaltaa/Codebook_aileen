{
 "cells": [
  {
   "cell_type": "code",
   "execution_count": 1,
   "metadata": {},
   "outputs": [],
   "source": [
    "import boto3\n",
    "import numpy as np \n",
    "import pandas as pd\n",
    "import io\n",
    "from collections import Counter"
   ]
  },
  {
   "cell_type": "code",
   "execution_count": 2,
   "metadata": {},
   "outputs": [],
   "source": [
    "client = boto3.client('s3')\n",
    "resource = boto3.resource('s3')"
   ]
  },
  {
   "cell_type": "code",
   "execution_count": 3,
   "metadata": {},
   "outputs": [
    {
     "data": {
      "text/html": [
       "<div>\n",
       "<style scoped>\n",
       "    .dataframe tbody tr th:only-of-type {\n",
       "        vertical-align: middle;\n",
       "    }\n",
       "\n",
       "    .dataframe tbody tr th {\n",
       "        vertical-align: top;\n",
       "    }\n",
       "\n",
       "    .dataframe thead th {\n",
       "        text-align: right;\n",
       "    }\n",
       "</style>\n",
       "<table border=\"1\" class=\"dataframe\">\n",
       "  <thead>\n",
       "    <tr style=\"text-align: right;\">\n",
       "      <th></th>\n",
       "      <th>Link</th>\n",
       "      <th>About</th>\n",
       "      <th>VISION</th>\n",
       "      <th>Your organisation is registered as</th>\n",
       "      <th>Permanent account number (PAN)</th>\n",
       "      <th>Registration number / CIN &amp; registration date</th>\n",
       "      <th>12A registration number &amp; registration date</th>\n",
       "      <th>80G registration number &amp; registration date</th>\n",
       "      <th>FCRA registration number &amp; registration date</th>\n",
       "      <th>35AC registration number &amp; registration date</th>\n",
       "      <th>...</th>\n",
       "      <th>Project description</th>\n",
       "      <th>Logo</th>\n",
       "      <th>Name</th>\n",
       "      <th>About Founder</th>\n",
       "      <th>Address</th>\n",
       "      <th>URL</th>\n",
       "      <th>Area of focus</th>\n",
       "      <th>Geographical Activity</th>\n",
       "      <th>Project Completed</th>\n",
       "      <th>Funding requirement</th>\n",
       "    </tr>\n",
       "  </thead>\n",
       "  <tbody>\n",
       "    <tr>\n",
       "      <th>0</th>\n",
       "      <td>http://www.ngoimpact.com/ngos/turning-point-fo...</td>\n",
       "      <td>TPF is a not for profit, national level volunt...</td>\n",
       "      <td>VisionThe vision of the organisation is to dev...</td>\n",
       "      <td>Charitable Society</td>\n",
       "      <td>AABTT1084A</td>\n",
       "      <td>S/41220 - 14-01-2002</td>\n",
       "      <td>1242 - 14-03-2003</td>\n",
       "      <td>8263043 - 11-10-2011</td>\n",
       "      <td>231660609 - 12-12-2005</td>\n",
       "      <td>NaN</td>\n",
       "      <td>...</td>\n",
       "      <td>Project description Drug De-addiction &amp; Rehabi...</td>\n",
       "      <td>http://www.ngoimpact.com/ngoadmin/public/ngo_p...</td>\n",
       "      <td>Turning Point Foundation Best Non-Government O...</td>\n",
       "      <td>perm_identity Founded by Mr. Jojo Thomas ( 25 ...</td>\n",
       "      <td>room A-528, Near Dayal Market, Narela Road, Al...</td>\n",
       "      <td>http://www.tpfindia.org</td>\n",
       "      <td>Healthcare / Prevention</td>\n",
       "      <td>Delhi</td>\n",
       "      <td>5.0</td>\n",
       "      <td>1500000.0</td>\n",
       "    </tr>\n",
       "    <tr>\n",
       "      <th>1</th>\n",
       "      <td>http://www.ngoimpact.com/ngos/basic-research-e...</td>\n",
       "      <td>Basic Research Education And Development Socie...</td>\n",
       "      <td>To inculcate the thirst for knowledge among st...</td>\n",
       "      <td>Charitable Society</td>\n",
       "      <td>AAATB4485E</td>\n",
       "      <td>1755 of 1989 - 11-08-1989</td>\n",
       "      <td>H.Qrs11/12A&amp;80G/32/ - 19-10-1990</td>\n",
       "      <td>HYD/80G/155(3)/08-09 - 10-09-2008</td>\n",
       "      <td>010260111 - 05-08-2016</td>\n",
       "      <td>NaN</td>\n",
       "      <td>...</td>\n",
       "      <td>Project description BREAD Society seeks out sc...</td>\n",
       "      <td>http://www.ngoimpact.com/ngoadmin/public/ngo_p...</td>\n",
       "      <td>Basic Research Education And Development Socie...</td>\n",
       "      <td>perm_identity Founded by Mr. Ramamohan Rao Kak...</td>\n",
       "      <td>room Plot # 1300 A, Jubilee Hills,, Road # 66,...</td>\n",
       "      <td>http://http://www.breadsocietyindia.org/</td>\n",
       "      <td>Education</td>\n",
       "      <td>Andhra Pradesh</td>\n",
       "      <td>18.0</td>\n",
       "      <td>3500000.0</td>\n",
       "    </tr>\n",
       "    <tr>\n",
       "      <th>2</th>\n",
       "      <td>http://www.ngoimpact.com/ngos/divya-jyothi-cha...</td>\n",
       "      <td>“ Divya Jyothi Charitable Trust” for the blind...</td>\n",
       "      <td>Empowering the visually impaired so that they ...</td>\n",
       "      <td>Public Charitable Trust</td>\n",
       "      <td>AABTD4733A</td>\n",
       "      <td>MYN-4-00326-2010-11 - 08-11-2010</td>\n",
       "      <td>D-54/12AA/MYS2011-12 - 27-06-2011</td>\n",
       "      <td>D-54/12AA/MYS2011-12 - 08-11-2010</td>\n",
       "      <td>094590221 - 22-12-2016</td>\n",
       "      <td>NaN</td>\n",
       "      <td>...</td>\n",
       "      <td>Project description “Divya Jyothi Charitable T...</td>\n",
       "      <td>http://www.ngoimpact.com/ngoadmin/public/ngo_p...</td>\n",
       "      <td>Divya Jyothi Charitable Trust Best Non-Governm...</td>\n",
       "      <td>perm_identity Founded by Shiv Prakash ( 07 yea...</td>\n",
       "      <td>room No.151/f, Premises of Bapuji Children's H...</td>\n",
       "      <td>http://www.divyajyothitrust.org</td>\n",
       "      <td>Disability</td>\n",
       "      <td>Karnataka</td>\n",
       "      <td>18.0</td>\n",
       "      <td>1500000.0</td>\n",
       "    </tr>\n",
       "    <tr>\n",
       "      <th>3</th>\n",
       "      <td>http://www.ngoimpact.com/ngos/atma-foundation#...</td>\n",
       "      <td>ATMA Foundation is an NGO committed to empower...</td>\n",
       "      <td>MissionEmpowering individuals, families &amp; soci...</td>\n",
       "      <td>Public Charitable Trust</td>\n",
       "      <td>AADTA2673C</td>\n",
       "      <td>397/ IV / 06 - 08-05-2006</td>\n",
       "      <td>CIT-TCR/Tech/12A/18/ - 06-02-2012</td>\n",
       "      <td>AADTA 2673 C/09/15-1 - 28-05-2015</td>\n",
       "      <td>NaN</td>\n",
       "      <td>NaN</td>\n",
       "      <td>...</td>\n",
       "      <td>Project description The ATMA Harmony Centre cu...</td>\n",
       "      <td>http://www.ngoimpact.com/ngoadmin/public/ngo_p...</td>\n",
       "      <td>ATMA Foundation Best Non-Government Organizati...</td>\n",
       "      <td>perm_identity Founded by C.k Suresh ( 30 years...</td>\n",
       "      <td>room ATMA Foundation, Surya Gardens,, Paliyam ...</td>\n",
       "      <td>http://www.atmafoundation.org</td>\n",
       "      <td>Promotion And Protection Of Child Rights</td>\n",
       "      <td>Kerala</td>\n",
       "      <td>0.0</td>\n",
       "      <td>0.0</td>\n",
       "    </tr>\n",
       "    <tr>\n",
       "      <th>4</th>\n",
       "      <td>http://www.ngoimpact.com/ngos/calcutta-rescue#...</td>\n",
       "      <td>Calcutta Rescue (CR) is a non – governmental o...</td>\n",
       "      <td>To reach out to more number of people living o...</td>\n",
       "      <td>Charitable Society</td>\n",
       "      <td>AAATC2014N</td>\n",
       "      <td>S/674950/ 1991- 92 - 04-04-1991</td>\n",
       "      <td>NaN</td>\n",
       "      <td>NaN</td>\n",
       "      <td>NaN</td>\n",
       "      <td>NaN</td>\n",
       "      <td>...</td>\n",
       "      <td>Project description Calcutta Rescue recognizes...</td>\n",
       "      <td>http://www.ngoimpact.com/ngoadmin/public/ngo_p...</td>\n",
       "      <td>Calcutta Rescue Best Non-Government Organizati...</td>\n",
       "      <td>perm_identity Founded by Jack Preger ( 35 year...</td>\n",
       "      <td>room Calcutta Rescue 4th Floor, 85 Collin Stre...</td>\n",
       "      <td>http://www.calcuttarescue.org</td>\n",
       "      <td>Education</td>\n",
       "      <td>West Bengal</td>\n",
       "      <td>12.0</td>\n",
       "      <td>1500000.0</td>\n",
       "    </tr>\n",
       "  </tbody>\n",
       "</table>\n",
       "<p>5 rows × 50 columns</p>\n",
       "</div>"
      ],
      "text/plain": [
       "                                                Link  \\\n",
       "0  http://www.ngoimpact.com/ngos/turning-point-fo...   \n",
       "1  http://www.ngoimpact.com/ngos/basic-research-e...   \n",
       "2  http://www.ngoimpact.com/ngos/divya-jyothi-cha...   \n",
       "3  http://www.ngoimpact.com/ngos/atma-foundation#...   \n",
       "4  http://www.ngoimpact.com/ngos/calcutta-rescue#...   \n",
       "\n",
       "                                               About  \\\n",
       "0  TPF is a not for profit, national level volunt...   \n",
       "1  Basic Research Education And Development Socie...   \n",
       "2  “ Divya Jyothi Charitable Trust” for the blind...   \n",
       "3  ATMA Foundation is an NGO committed to empower...   \n",
       "4  Calcutta Rescue (CR) is a non – governmental o...   \n",
       "\n",
       "                                              VISION  \\\n",
       "0  VisionThe vision of the organisation is to dev...   \n",
       "1  To inculcate the thirst for knowledge among st...   \n",
       "2  Empowering the visually impaired so that they ...   \n",
       "3  MissionEmpowering individuals, families & soci...   \n",
       "4  To reach out to more number of people living o...   \n",
       "\n",
       "  Your organisation is registered as Permanent account number (PAN)  \\\n",
       "0                 Charitable Society                     AABTT1084A   \n",
       "1                 Charitable Society                     AAATB4485E   \n",
       "2            Public Charitable Trust                     AABTD4733A   \n",
       "3            Public Charitable Trust                     AADTA2673C   \n",
       "4                 Charitable Society                     AAATC2014N   \n",
       "\n",
       "  Registration number / CIN & registration date  \\\n",
       "0                          S/41220 - 14-01-2002   \n",
       "1                     1755 of 1989 - 11-08-1989   \n",
       "2              MYN-4-00326-2010-11 - 08-11-2010   \n",
       "3                     397/ IV / 06 - 08-05-2006   \n",
       "4               S/674950/ 1991- 92 - 04-04-1991   \n",
       "\n",
       "  12A registration number & registration date  \\\n",
       "0                           1242 - 14-03-2003   \n",
       "1            H.Qrs11/12A&80G/32/ - 19-10-1990   \n",
       "2           D-54/12AA/MYS2011-12 - 27-06-2011   \n",
       "3           CIT-TCR/Tech/12A/18/ - 06-02-2012   \n",
       "4                                         NaN   \n",
       "\n",
       "  80G registration number & registration date  \\\n",
       "0                        8263043 - 11-10-2011   \n",
       "1           HYD/80G/155(3)/08-09 - 10-09-2008   \n",
       "2           D-54/12AA/MYS2011-12 - 08-11-2010   \n",
       "3           AADTA 2673 C/09/15-1 - 28-05-2015   \n",
       "4                                         NaN   \n",
       "\n",
       "  FCRA registration number & registration date  \\\n",
       "0                       231660609 - 12-12-2005   \n",
       "1                       010260111 - 05-08-2016   \n",
       "2                       094590221 - 22-12-2016   \n",
       "3                                          NaN   \n",
       "4                                          NaN   \n",
       "\n",
       "  35AC registration number & registration date  ...  \\\n",
       "0                                          NaN  ...   \n",
       "1                                          NaN  ...   \n",
       "2                                          NaN  ...   \n",
       "3                                          NaN  ...   \n",
       "4                                          NaN  ...   \n",
       "\n",
       "                                 Project description  \\\n",
       "0  Project description Drug De-addiction & Rehabi...   \n",
       "1  Project description BREAD Society seeks out sc...   \n",
       "2  Project description “Divya Jyothi Charitable T...   \n",
       "3  Project description The ATMA Harmony Centre cu...   \n",
       "4  Project description Calcutta Rescue recognizes...   \n",
       "\n",
       "                                                Logo  \\\n",
       "0  http://www.ngoimpact.com/ngoadmin/public/ngo_p...   \n",
       "1  http://www.ngoimpact.com/ngoadmin/public/ngo_p...   \n",
       "2  http://www.ngoimpact.com/ngoadmin/public/ngo_p...   \n",
       "3  http://www.ngoimpact.com/ngoadmin/public/ngo_p...   \n",
       "4  http://www.ngoimpact.com/ngoadmin/public/ngo_p...   \n",
       "\n",
       "                                                Name  \\\n",
       "0  Turning Point Foundation Best Non-Government O...   \n",
       "1  Basic Research Education And Development Socie...   \n",
       "2  Divya Jyothi Charitable Trust Best Non-Governm...   \n",
       "3  ATMA Foundation Best Non-Government Organizati...   \n",
       "4  Calcutta Rescue Best Non-Government Organizati...   \n",
       "\n",
       "                                       About Founder  \\\n",
       "0  perm_identity Founded by Mr. Jojo Thomas ( 25 ...   \n",
       "1  perm_identity Founded by Mr. Ramamohan Rao Kak...   \n",
       "2  perm_identity Founded by Shiv Prakash ( 07 yea...   \n",
       "3  perm_identity Founded by C.k Suresh ( 30 years...   \n",
       "4  perm_identity Founded by Jack Preger ( 35 year...   \n",
       "\n",
       "                                             Address  \\\n",
       "0  room A-528, Near Dayal Market, Narela Road, Al...   \n",
       "1  room Plot # 1300 A, Jubilee Hills,, Road # 66,...   \n",
       "2  room No.151/f, Premises of Bapuji Children's H...   \n",
       "3  room ATMA Foundation, Surya Gardens,, Paliyam ...   \n",
       "4  room Calcutta Rescue 4th Floor, 85 Collin Stre...   \n",
       "\n",
       "                                        URL  \\\n",
       "0                   http://www.tpfindia.org   \n",
       "1  http://http://www.breadsocietyindia.org/   \n",
       "2           http://www.divyajyothitrust.org   \n",
       "3             http://www.atmafoundation.org   \n",
       "4             http://www.calcuttarescue.org   \n",
       "\n",
       "                              Area of focus Geographical Activity  \\\n",
       "0                   Healthcare / Prevention                 Delhi   \n",
       "1                                 Education        Andhra Pradesh   \n",
       "2                                Disability             Karnataka   \n",
       "3  Promotion And Protection Of Child Rights                Kerala   \n",
       "4                                 Education           West Bengal   \n",
       "\n",
       "  Project Completed  Funding requirement  \n",
       "0               5.0            1500000.0  \n",
       "1              18.0            3500000.0  \n",
       "2              18.0            1500000.0  \n",
       "3               0.0                  0.0  \n",
       "4              12.0            1500000.0  \n",
       "\n",
       "[5 rows x 50 columns]"
      ]
     },
     "execution_count": 3,
     "metadata": {},
     "output_type": "execute_result"
    }
   ],
   "source": [
    "obj = client.get_object(Bucket = 'daanmatchdatafiles', Key = 'from Shekhar/Final_Data_ngoimpact.com.xlsx')\n",
    "ngoimpact = pd.read_excel(io.BytesIO(obj['Body'].read()))\n",
    "ngoimpact.head()"
   ]
  },
  {
   "cell_type": "code",
   "execution_count": 4,
   "metadata": {},
   "outputs": [
    {
     "name": "stdout",
     "output_type": "stream",
     "text": [
      "Shape: (551, 50)\n",
      "Rows: 551\n",
      "Columns: 50\n",
      "Each row is an NGO project.\n"
     ]
    }
   ],
   "source": [
    "print(\"Shape:\", ngoimpact.shape)\n",
    "print(\"Rows:\", ngoimpact.shape[0])\n",
    "print(\"Columns:\", ngoimpact.shape[1])\n",
    "print(\"Each row is an NGO project.\")"
   ]
  },
  {
   "cell_type": "code",
   "execution_count": 4,
   "metadata": {},
   "outputs": [
    {
     "data": {
      "text/plain": [
       "Index(['Link', 'About', 'VISION', 'Your organisation is registered as',\n",
       "       'Permanent account number (PAN)',\n",
       "       'Registration number / CIN & registration date',\n",
       "       '12A registration number & registration date',\n",
       "       '80G registration number & registration date',\n",
       "       'FCRA registration number & registration date',\n",
       "       '35AC registration number & registration date', 'Annual budget',\n",
       "       'Total income', 'Total expenditure', 'Average monthly expenditure',\n",
       "       'Total fixed assets', 'Long term loan', 'Total funding gap',\n",
       "       'Number of full time employees', 'Number of part time employees',\n",
       "       'Number of consultants', 'Number of volunteers / interns',\n",
       "       'Which operational area do you require additional help with?',\n",
       "       'Number of board members', 'Number of meetings done',\n",
       "       'Governance photos', 'Governance documents',\n",
       "       'Who are your major funders?', 'Name your funders',\n",
       "       'Project start date', 'Project end/expected close date',\n",
       "       'Project Sector', 'Location', 'City(ies)', 'Area/Town name', 'Budget',\n",
       "       'External funding received', 'Number of beneficiaries', 'Project type',\n",
       "       'Project photos', 'Project documents', 'Project description', 'Logo',\n",
       "       'Name', 'About Founder', 'Address', 'URL', 'Area of focus',\n",
       "       'Geographical Activity', 'Project Completed', 'Funding requirement'],\n",
       "      dtype='object')"
      ]
     },
     "execution_count": 4,
     "metadata": {},
     "output_type": "execute_result"
    }
   ],
   "source": [
    "ngoimpact.columns"
   ]
  },
  {
   "cell_type": "code",
   "execution_count": 5,
   "metadata": {},
   "outputs": [
    {
     "data": {
      "text/html": [
       "<div>\n",
       "<style scoped>\n",
       "    .dataframe tbody tr th:only-of-type {\n",
       "        vertical-align: middle;\n",
       "    }\n",
       "\n",
       "    .dataframe tbody tr th {\n",
       "        vertical-align: top;\n",
       "    }\n",
       "\n",
       "    .dataframe thead th {\n",
       "        text-align: right;\n",
       "    }\n",
       "</style>\n",
       "<table border=\"1\" class=\"dataframe\">\n",
       "  <thead>\n",
       "    <tr style=\"text-align: right;\">\n",
       "      <th></th>\n",
       "      <th>Column Name</th>\n",
       "      <th>Type</th>\n",
       "    </tr>\n",
       "  </thead>\n",
       "  <tbody>\n",
       "    <tr>\n",
       "      <th>0</th>\n",
       "      <td>Link</td>\n",
       "      <td>object</td>\n",
       "    </tr>\n",
       "    <tr>\n",
       "      <th>1</th>\n",
       "      <td>About</td>\n",
       "      <td>object</td>\n",
       "    </tr>\n",
       "    <tr>\n",
       "      <th>2</th>\n",
       "      <td>VISION</td>\n",
       "      <td>object</td>\n",
       "    </tr>\n",
       "    <tr>\n",
       "      <th>3</th>\n",
       "      <td>Your organisation is registered as</td>\n",
       "      <td>object</td>\n",
       "    </tr>\n",
       "    <tr>\n",
       "      <th>4</th>\n",
       "      <td>Permanent account number (PAN)</td>\n",
       "      <td>object</td>\n",
       "    </tr>\n",
       "    <tr>\n",
       "      <th>5</th>\n",
       "      <td>Registration number / CIN &amp; registration date</td>\n",
       "      <td>object</td>\n",
       "    </tr>\n",
       "    <tr>\n",
       "      <th>6</th>\n",
       "      <td>12A registration number &amp; registration date</td>\n",
       "      <td>object</td>\n",
       "    </tr>\n",
       "    <tr>\n",
       "      <th>7</th>\n",
       "      <td>80G registration number &amp; registration date</td>\n",
       "      <td>object</td>\n",
       "    </tr>\n",
       "    <tr>\n",
       "      <th>8</th>\n",
       "      <td>FCRA registration number &amp; registration date</td>\n",
       "      <td>object</td>\n",
       "    </tr>\n",
       "    <tr>\n",
       "      <th>9</th>\n",
       "      <td>35AC registration number &amp; registration date</td>\n",
       "      <td>object</td>\n",
       "    </tr>\n",
       "    <tr>\n",
       "      <th>10</th>\n",
       "      <td>Annual budget</td>\n",
       "      <td>object</td>\n",
       "    </tr>\n",
       "    <tr>\n",
       "      <th>11</th>\n",
       "      <td>Total income</td>\n",
       "      <td>object</td>\n",
       "    </tr>\n",
       "    <tr>\n",
       "      <th>12</th>\n",
       "      <td>Total expenditure</td>\n",
       "      <td>object</td>\n",
       "    </tr>\n",
       "    <tr>\n",
       "      <th>13</th>\n",
       "      <td>Average monthly expenditure</td>\n",
       "      <td>object</td>\n",
       "    </tr>\n",
       "    <tr>\n",
       "      <th>14</th>\n",
       "      <td>Total fixed assets</td>\n",
       "      <td>object</td>\n",
       "    </tr>\n",
       "    <tr>\n",
       "      <th>15</th>\n",
       "      <td>Long term loan</td>\n",
       "      <td>object</td>\n",
       "    </tr>\n",
       "    <tr>\n",
       "      <th>16</th>\n",
       "      <td>Total funding gap</td>\n",
       "      <td>object</td>\n",
       "    </tr>\n",
       "    <tr>\n",
       "      <th>17</th>\n",
       "      <td>Number of full time employees</td>\n",
       "      <td>object</td>\n",
       "    </tr>\n",
       "    <tr>\n",
       "      <th>18</th>\n",
       "      <td>Number of part time employees</td>\n",
       "      <td>object</td>\n",
       "    </tr>\n",
       "    <tr>\n",
       "      <th>19</th>\n",
       "      <td>Number of consultants</td>\n",
       "      <td>float64</td>\n",
       "    </tr>\n",
       "    <tr>\n",
       "      <th>20</th>\n",
       "      <td>Number of volunteers / interns</td>\n",
       "      <td>object</td>\n",
       "    </tr>\n",
       "    <tr>\n",
       "      <th>21</th>\n",
       "      <td>Which operational area do you require addition...</td>\n",
       "      <td>object</td>\n",
       "    </tr>\n",
       "    <tr>\n",
       "      <th>22</th>\n",
       "      <td>Number of board members</td>\n",
       "      <td>float64</td>\n",
       "    </tr>\n",
       "    <tr>\n",
       "      <th>23</th>\n",
       "      <td>Number of meetings done</td>\n",
       "      <td>float64</td>\n",
       "    </tr>\n",
       "    <tr>\n",
       "      <th>24</th>\n",
       "      <td>Governance photos</td>\n",
       "      <td>float64</td>\n",
       "    </tr>\n",
       "    <tr>\n",
       "      <th>25</th>\n",
       "      <td>Governance documents</td>\n",
       "      <td>object</td>\n",
       "    </tr>\n",
       "    <tr>\n",
       "      <th>26</th>\n",
       "      <td>Who are your major funders?</td>\n",
       "      <td>object</td>\n",
       "    </tr>\n",
       "    <tr>\n",
       "      <th>27</th>\n",
       "      <td>Name your funders</td>\n",
       "      <td>object</td>\n",
       "    </tr>\n",
       "    <tr>\n",
       "      <th>28</th>\n",
       "      <td>Project start date</td>\n",
       "      <td>object</td>\n",
       "    </tr>\n",
       "    <tr>\n",
       "      <th>29</th>\n",
       "      <td>Project end/expected close date</td>\n",
       "      <td>object</td>\n",
       "    </tr>\n",
       "    <tr>\n",
       "      <th>30</th>\n",
       "      <td>Project Sector</td>\n",
       "      <td>object</td>\n",
       "    </tr>\n",
       "    <tr>\n",
       "      <th>31</th>\n",
       "      <td>Location</td>\n",
       "      <td>object</td>\n",
       "    </tr>\n",
       "    <tr>\n",
       "      <th>32</th>\n",
       "      <td>City(ies)</td>\n",
       "      <td>object</td>\n",
       "    </tr>\n",
       "    <tr>\n",
       "      <th>33</th>\n",
       "      <td>Area/Town name</td>\n",
       "      <td>object</td>\n",
       "    </tr>\n",
       "    <tr>\n",
       "      <th>34</th>\n",
       "      <td>Budget</td>\n",
       "      <td>object</td>\n",
       "    </tr>\n",
       "    <tr>\n",
       "      <th>35</th>\n",
       "      <td>External funding received</td>\n",
       "      <td>object</td>\n",
       "    </tr>\n",
       "    <tr>\n",
       "      <th>36</th>\n",
       "      <td>Number of beneficiaries</td>\n",
       "      <td>object</td>\n",
       "    </tr>\n",
       "    <tr>\n",
       "      <th>37</th>\n",
       "      <td>Project type</td>\n",
       "      <td>object</td>\n",
       "    </tr>\n",
       "    <tr>\n",
       "      <th>38</th>\n",
       "      <td>Project photos</td>\n",
       "      <td>object</td>\n",
       "    </tr>\n",
       "    <tr>\n",
       "      <th>39</th>\n",
       "      <td>Project documents</td>\n",
       "      <td>object</td>\n",
       "    </tr>\n",
       "    <tr>\n",
       "      <th>40</th>\n",
       "      <td>Project description</td>\n",
       "      <td>object</td>\n",
       "    </tr>\n",
       "    <tr>\n",
       "      <th>41</th>\n",
       "      <td>Logo</td>\n",
       "      <td>object</td>\n",
       "    </tr>\n",
       "    <tr>\n",
       "      <th>42</th>\n",
       "      <td>Name</td>\n",
       "      <td>object</td>\n",
       "    </tr>\n",
       "    <tr>\n",
       "      <th>43</th>\n",
       "      <td>About Founder</td>\n",
       "      <td>object</td>\n",
       "    </tr>\n",
       "    <tr>\n",
       "      <th>44</th>\n",
       "      <td>Address</td>\n",
       "      <td>object</td>\n",
       "    </tr>\n",
       "    <tr>\n",
       "      <th>45</th>\n",
       "      <td>URL</td>\n",
       "      <td>object</td>\n",
       "    </tr>\n",
       "    <tr>\n",
       "      <th>46</th>\n",
       "      <td>Area of focus</td>\n",
       "      <td>object</td>\n",
       "    </tr>\n",
       "    <tr>\n",
       "      <th>47</th>\n",
       "      <td>Geographical Activity</td>\n",
       "      <td>object</td>\n",
       "    </tr>\n",
       "    <tr>\n",
       "      <th>48</th>\n",
       "      <td>Project Completed</td>\n",
       "      <td>float64</td>\n",
       "    </tr>\n",
       "    <tr>\n",
       "      <th>49</th>\n",
       "      <td>Funding requirement</td>\n",
       "      <td>float64</td>\n",
       "    </tr>\n",
       "  </tbody>\n",
       "</table>\n",
       "</div>"
      ],
      "text/plain": [
       "                                          Column Name     Type\n",
       "0                                                Link   object\n",
       "1                                               About   object\n",
       "2                                              VISION   object\n",
       "3                  Your organisation is registered as   object\n",
       "4                      Permanent account number (PAN)   object\n",
       "5       Registration number / CIN & registration date   object\n",
       "6         12A registration number & registration date   object\n",
       "7         80G registration number & registration date   object\n",
       "8        FCRA registration number & registration date   object\n",
       "9        35AC registration number & registration date   object\n",
       "10                                      Annual budget   object\n",
       "11                                       Total income   object\n",
       "12                                  Total expenditure   object\n",
       "13                        Average monthly expenditure   object\n",
       "14                                 Total fixed assets   object\n",
       "15                                     Long term loan   object\n",
       "16                                  Total funding gap   object\n",
       "17                      Number of full time employees   object\n",
       "18                      Number of part time employees   object\n",
       "19                              Number of consultants  float64\n",
       "20                     Number of volunteers / interns   object\n",
       "21  Which operational area do you require addition...   object\n",
       "22                            Number of board members  float64\n",
       "23                            Number of meetings done  float64\n",
       "24                                  Governance photos  float64\n",
       "25                               Governance documents   object\n",
       "26                        Who are your major funders?   object\n",
       "27                                  Name your funders   object\n",
       "28                                 Project start date   object\n",
       "29                    Project end/expected close date   object\n",
       "30                                     Project Sector   object\n",
       "31                                           Location   object\n",
       "32                                          City(ies)   object\n",
       "33                                     Area/Town name   object\n",
       "34                                             Budget   object\n",
       "35                          External funding received   object\n",
       "36                            Number of beneficiaries   object\n",
       "37                                       Project type   object\n",
       "38                                     Project photos   object\n",
       "39                                  Project documents   object\n",
       "40                                Project description   object\n",
       "41                                               Logo   object\n",
       "42                                               Name   object\n",
       "43                                      About Founder   object\n",
       "44                                            Address   object\n",
       "45                                                URL   object\n",
       "46                                      Area of focus   object\n",
       "47                              Geographical Activity   object\n",
       "48                                  Project Completed  float64\n",
       "49                                Funding requirement  float64"
      ]
     },
     "execution_count": 5,
     "metadata": {},
     "output_type": "execute_result"
    }
   ],
   "source": [
    "dataset_columns = [column for column in ngoimpact.columns]\n",
    "\n",
    "dataset_dtypes = [dtype for dtype in ngoimpact.dtypes]\n",
    "\n",
    "data = {\"Column Name\": dataset_columns,  \"Type\": dataset_dtypes}\n",
    "codebook = pd.DataFrame(data)\n",
    "codebook"
   ]
  },
  {
   "cell_type": "markdown",
   "metadata": {},
   "source": [
    "**Missing Values in each Column**"
   ]
  },
  {
   "cell_type": "code",
   "execution_count": 32,
   "metadata": {},
   "outputs": [
    {
     "data": {
      "text/plain": [
       "Link                                                             0\n",
       "About                                                          177\n",
       "VISION                                                         208\n",
       "Your organisation is registered as                              39\n",
       "Permanent account number (PAN)                                  39\n",
       "Registration number / CIN & registration date                   39\n",
       "12A registration number & registration date                    533\n",
       "80G registration number & registration date                    534\n",
       "FCRA registration number & registration date                   524\n",
       "35AC registration number & registration date                   550\n",
       "Annual budget                                                  106\n",
       "Total income                                                   106\n",
       "Total expenditure                                              106\n",
       "Average monthly expenditure                                    106\n",
       "Total fixed assets                                             106\n",
       "Long term loan                                                 106\n",
       "Total funding gap                                              106\n",
       "Number of full time employees                                  111\n",
       "Number of part time employees                                  474\n",
       "Number of consultants                                          479\n",
       "Number of volunteers / interns                                 466\n",
       "Which operational area do you require additional help with?    111\n",
       "Number of board members                                        111\n",
       "Number of meetings done                                        478\n",
       "Governance photos                                              551\n",
       "Governance documents                                           548\n",
       "Who are your major funders?                                    425\n",
       "Name your funders                                              143\n",
       "Project start date                                             133\n",
       "Project end/expected close date                                133\n",
       "Project Sector                                                 531\n",
       "Location                                                       133\n",
       "City(ies)                                                      133\n",
       "Area/Town name                                                 532\n",
       "Budget                                                         133\n",
       "External funding received                                      133\n",
       "Number of beneficiaries                                        133\n",
       "Project type                                                   133\n",
       "Project photos                                                 545\n",
       "Project documents                                              550\n",
       "Project description                                            133\n",
       "Logo                                                            14\n",
       "Name                                                             0\n",
       "About Founder                                                   14\n",
       "Address                                                         14\n",
       "URL                                                            289\n",
       "Area of focus                                                   87\n",
       "Geographical Activity                                           14\n",
       "Project Completed                                               14\n",
       "Funding requirement                                             14\n",
       "dtype: int64"
      ]
     },
     "execution_count": 32,
     "metadata": {},
     "output_type": "execute_result"
    }
   ],
   "source": [
    "ngoimpact.isnull().sum()"
   ]
  },
  {
   "cell_type": "markdown",
   "metadata": {},
   "source": [
    "A lot of the columns have no values. \n",
    "\n",
    "Some organizations might have not had projects yet.\n",
    "Project Photos: organizations might not have uploaded/taken photos"
   ]
  },
  {
   "cell_type": "markdown",
   "metadata": {},
   "source": [
    "# URL"
   ]
  },
  {
   "cell_type": "code",
   "execution_count": 34,
   "metadata": {},
   "outputs": [
    {
     "data": {
      "text/plain": [
       "0                     http://www.tpfindia.org\n",
       "1    http://http://www.breadsocietyindia.org/\n",
       "2             http://www.divyajyothitrust.org\n",
       "3               http://www.atmafoundation.org\n",
       "4               http://www.calcuttarescue.org\n",
       "Name: URL, dtype: object"
      ]
     },
     "execution_count": 34,
     "metadata": {},
     "output_type": "execute_result"
    }
   ],
   "source": [
    "ngoimpact['URL'].head()"
   ]
  },
  {
   "cell_type": "code",
   "execution_count": 36,
   "metadata": {},
   "outputs": [
    {
     "name": "stdout",
     "output_type": "stream",
     "text": [
      "Invalid: 289\n",
      "No. of unique values: 262\n",
      "No. of Duplicates: 2\n"
     ]
    },
    {
     "data": {
      "text/html": [
       "<div>\n",
       "<style scoped>\n",
       "    .dataframe tbody tr th:only-of-type {\n",
       "        vertical-align: middle;\n",
       "    }\n",
       "\n",
       "    .dataframe tbody tr th {\n",
       "        vertical-align: top;\n",
       "    }\n",
       "\n",
       "    .dataframe thead th {\n",
       "        text-align: right;\n",
       "    }\n",
       "</style>\n",
       "<table border=\"1\" class=\"dataframe\">\n",
       "  <thead>\n",
       "    <tr style=\"text-align: right;\">\n",
       "      <th></th>\n",
       "      <th>Duplicate URLs</th>\n",
       "      <th>Count</th>\n",
       "    </tr>\n",
       "  </thead>\n",
       "  <tbody>\n",
       "    <tr>\n",
       "      <th>0</th>\n",
       "      <td>NaN</td>\n",
       "      <td>289</td>\n",
       "    </tr>\n",
       "    <tr>\n",
       "      <th>1</th>\n",
       "      <td>http://www.prayas-bharat.org</td>\n",
       "      <td>2</td>\n",
       "    </tr>\n",
       "  </tbody>\n",
       "</table>\n",
       "</div>"
      ],
      "text/plain": [
       "                 Duplicate URLs  Count\n",
       "0                           NaN    289\n",
       "1  http://www.prayas-bharat.org      2"
      ]
     },
     "execution_count": 36,
     "metadata": {},
     "output_type": "execute_result"
    }
   ],
   "source": [
    "url = ngoimpact['URL']\n",
    "# Number of empty strings/missing values\n",
    "print(\"Invalid:\", sum(url == \" \") + sum(url.isnull()))\n",
    "\n",
    "print(\"No. of unique values:\", len(url.unique()))\n",
    "\n",
    "# Check for duplicates\n",
    "counter = dict(Counter(url))\n",
    "duplicates = { key:[value] for key, value in counter.items() if value > 1}\n",
    "print(\"No. of Duplicates:\", len(duplicates))\n",
    "\n",
    "table = pd.DataFrame.from_dict(duplicates)\n",
    "table = table.melt(var_name=\"Duplicate URLs\", value_name=\"Count\").sort_values(by=[\"Count\"], ascending=False).reset_index(drop=True)\n",
    "table"
   ]
  },
  {
   "cell_type": "markdown",
   "metadata": {},
   "source": [
    "Some companies do not have websites."
   ]
  },
  {
   "cell_type": "markdown",
   "metadata": {},
   "source": [
    "**Link**"
   ]
  },
  {
   "cell_type": "code",
   "execution_count": 33,
   "metadata": {},
   "outputs": [
    {
     "data": {
      "text/plain": [
       "0    http://www.ngoimpact.com/ngos/turning-point-fo...\n",
       "1    http://www.ngoimpact.com/ngos/basic-research-e...\n",
       "2    http://www.ngoimpact.com/ngos/divya-jyothi-cha...\n",
       "3    http://www.ngoimpact.com/ngos/atma-foundation#...\n",
       "4    http://www.ngoimpact.com/ngos/calcutta-rescue#...\n",
       "Name: Link, dtype: object"
      ]
     },
     "execution_count": 33,
     "metadata": {},
     "output_type": "execute_result"
    }
   ],
   "source": [
    "ngoimpact['Link'].head()"
   ]
  },
  {
   "cell_type": "markdown",
   "metadata": {},
   "source": [
    "**Your organisation is registered as**"
   ]
  },
  {
   "cell_type": "code",
   "execution_count": 19,
   "metadata": {},
   "outputs": [
    {
     "data": {
      "text/plain": [
       "0         Charitable Society\n",
       "1         Charitable Society\n",
       "2    Public Charitable Trust\n",
       "3    Public Charitable Trust\n",
       "4         Charitable Society\n",
       "Name: Your organisation is registered as, dtype: object"
      ]
     },
     "execution_count": 19,
     "metadata": {},
     "output_type": "execute_result"
    }
   ],
   "source": [
    "ngoimpact['Your organisation is registered as'].head()"
   ]
  },
  {
   "cell_type": "code",
   "execution_count": 20,
   "metadata": {},
   "outputs": [
    {
     "data": {
      "text/plain": [
       "Public Charitable Trust    356\n",
       "Charitable Society         149\n",
       "Section 8 Company            7\n",
       "Name: Your organisation is registered as, dtype: int64"
      ]
     },
     "execution_count": 20,
     "metadata": {},
     "output_type": "execute_result"
    }
   ],
   "source": [
    "ngoimpact['Your organisation is registered as'].value_counts()"
   ]
  },
  {
   "cell_type": "markdown",
   "metadata": {},
   "source": [
    "Organizations are registered as three different types: Public Charitable Trust, Charitable Society and Section 8 Company."
   ]
  },
  {
   "cell_type": "markdown",
   "metadata": {},
   "source": [
    "**Name**"
   ]
  },
  {
   "cell_type": "code",
   "execution_count": 37,
   "metadata": {},
   "outputs": [
    {
     "data": {
      "text/plain": [
       "0    Turning Point Foundation Best Non-Government O...\n",
       "1    Basic Research Education And Development Socie...\n",
       "2    Divya Jyothi Charitable Trust Best Non-Governm...\n",
       "3    ATMA Foundation Best Non-Government Organizati...\n",
       "4    Calcutta Rescue Best Non-Government Organizati...\n",
       "Name: Name, dtype: object"
      ]
     },
     "execution_count": 37,
     "metadata": {},
     "output_type": "execute_result"
    }
   ],
   "source": [
    "ngoimpact['Name'].head()"
   ]
  },
  {
   "cell_type": "code",
   "execution_count": 38,
   "metadata": {},
   "outputs": [],
   "source": [
    "column = ngoimpact['Name']\n"
   ]
  },
  {
   "cell_type": "code",
   "execution_count": 39,
   "metadata": {},
   "outputs": [
    {
     "name": "stdout",
     "output_type": "stream",
     "text": [
      "Invalid: 0\n",
      "No. of unique values: 539\n",
      "No. of Duplicates: 1\n"
     ]
    },
    {
     "data": {
      "text/html": [
       "<div>\n",
       "<style scoped>\n",
       "    .dataframe tbody tr th:only-of-type {\n",
       "        vertical-align: middle;\n",
       "    }\n",
       "\n",
       "    .dataframe tbody tr th {\n",
       "        vertical-align: top;\n",
       "    }\n",
       "\n",
       "    .dataframe thead th {\n",
       "        text-align: right;\n",
       "    }\n",
       "</style>\n",
       "<table border=\"1\" class=\"dataframe\">\n",
       "  <thead>\n",
       "    <tr style=\"text-align: right;\">\n",
       "      <th></th>\n",
       "      <th>Duplicate Names</th>\n",
       "      <th>Count</th>\n",
       "    </tr>\n",
       "  </thead>\n",
       "  <tbody>\n",
       "    <tr>\n",
       "      <th>0</th>\n",
       "      <td>404 | Best Non-Government Organizations &amp; Soci...</td>\n",
       "      <td>13</td>\n",
       "    </tr>\n",
       "  </tbody>\n",
       "</table>\n",
       "</div>"
      ],
      "text/plain": [
       "                                     Duplicate Names  Count\n",
       "0  404 | Best Non-Government Organizations & Soci...     13"
      ]
     },
     "execution_count": 39,
     "metadata": {},
     "output_type": "execute_result"
    }
   ],
   "source": [
    "# Number of empty strings/missing values\n",
    "print(\"Invalid:\", sum(column == \" \") + sum(column.isnull()))\n",
    "\n",
    "print(\"No. of unique values:\", len(column.unique()))\n",
    "\n",
    "# Check for duplicates\n",
    "counter = dict(Counter(column))\n",
    "duplicates = { key:[value] for key, value in counter.items() if value > 1}\n",
    "print(\"No. of Duplicates:\", len(duplicates))\n",
    "\n",
    "table = pd.DataFrame.from_dict(duplicates)\n",
    "table = table.melt(var_name=\"Duplicate Names\", value_name=\"Count\").sort_values(by=[\"Count\"], ascending=False).reset_index(drop=True)\n",
    "table"
   ]
  },
  {
   "cell_type": "markdown",
   "metadata": {},
   "source": [
    "**Area of Focus**"
   ]
  },
  {
   "cell_type": "code",
   "execution_count": 41,
   "metadata": {},
   "outputs": [
    {
     "data": {
      "text/plain": [
       "Livelihoods / Poverty Alleviation                                 133\n",
       "Education                                                         115\n",
       "Rural Development                                                  63\n",
       "Women Empowerment                                                  30\n",
       "Advocacy                                                           30\n",
       "Promotion And Protection Of Child Rights                           28\n",
       "Environment                                                        16\n",
       "Community Development                                              16\n",
       "Vocational And Skills Training                                      9\n",
       "Healthcare / Prevention                                             7\n",
       "Maternal And Child Health                                           4\n",
       "Disability                                                          3\n",
       "Youth Empowerment                                                   3\n",
       "Disaster Management                                                 2\n",
       "Elderly Care                                                        2\n",
       "Gender Mainstreaming                                                2\n",
       "Promotion And Protection Of National Heritage, Art And Culture      1\n",
       "Name: Area of focus, dtype: int64"
      ]
     },
     "execution_count": 41,
     "metadata": {},
     "output_type": "execute_result"
    }
   ],
   "source": [
    "ngoimpact['Area of focus'].value_counts()"
   ]
  },
  {
   "cell_type": "code",
   "execution_count": 40,
   "metadata": {},
   "outputs": [
    {
     "data": {
      "text/plain": [
       "Index(['Link', 'About', 'VISION', 'Your organisation is registered as',\n",
       "       'Permanent account number (PAN)',\n",
       "       'Registration number / CIN & registration date',\n",
       "       '12A registration number & registration date',\n",
       "       '80G registration number & registration date',\n",
       "       'FCRA registration number & registration date',\n",
       "       '35AC registration number & registration date', 'Annual budget',\n",
       "       'Total income', 'Total expenditure', 'Average monthly expenditure',\n",
       "       'Total fixed assets', 'Long term loan', 'Total funding gap',\n",
       "       'Number of full time employees', 'Number of part time employees',\n",
       "       'Number of consultants', 'Number of volunteers / interns',\n",
       "       'Which operational area do you require additional help with?',\n",
       "       'Number of board members', 'Number of meetings done',\n",
       "       'Governance photos', 'Governance documents',\n",
       "       'Who are your major funders?', 'Name your funders',\n",
       "       'Project start date', 'Project end/expected close date',\n",
       "       'Project Sector', 'Location', 'City(ies)', 'Area/Town name', 'Budget',\n",
       "       'External funding received', 'Number of beneficiaries', 'Project type',\n",
       "       'Project photos', 'Project documents', 'Project description', 'Logo',\n",
       "       'Name', 'About Founder', 'Address', 'URL', 'Area of focus',\n",
       "       'Geographical Activity', 'Project Completed', 'Funding requirement'],\n",
       "      dtype='object')"
      ]
     },
     "execution_count": 40,
     "metadata": {},
     "output_type": "execute_result"
    }
   ],
   "source": [
    "ngoimpact.columns"
   ]
  },
  {
   "cell_type": "markdown",
   "metadata": {},
   "source": [
    "**Location**"
   ]
  },
  {
   "cell_type": "code",
   "execution_count": 50,
   "metadata": {},
   "outputs": [
    {
     "data": {
      "text/plain": [
       "Delhi                                                                                                      134\n",
       "Maharashtra                                                                                                 48\n",
       "West Bengal                                                                                                 35\n",
       "Tamil Nadu                                                                                                  33\n",
       "Odisha                                                                                                      21\n",
       "Gujarat                                                                                                     17\n",
       "Karnataka                                                                                                   15\n",
       "Uttar Pradesh                                                                                               13\n",
       "Bihar                                                                                                       12\n",
       "Haryana                                                                                                     12\n",
       "Madhya Pradesh                                                                                               8\n",
       "Telangana                                                                                                    7\n",
       "Jharkhand                                                                                                    7\n",
       "Andhra Pradesh                                                                                               6\n",
       "Himachal Pradesh                                                                                             6\n",
       "Maharashtra Maharashtra                                                                                      5\n",
       "Rajasthan                                                                                                    4\n",
       "Assam                                                                                                        3\n",
       "Delhi Delhi                                                                                                  3\n",
       "Uttarakhand                                                                                                  3\n",
       "Arunachal Pradesh                                                                                            2\n",
       "Goa                                                                                                          2\n",
       "Karnataka,Maharashtra,Odisha                                                                                 1\n",
       "Kerala                                                                                                       1\n",
       "Bihar,Maharashtra                                                                                            1\n",
       "Tripura                                                                                                      1\n",
       "Delhi,Karnataka,Odisha,West Bengal                                                                           1\n",
       "Manipur                                                                                                      1\n",
       "Assam,Bihar,Maharashtra,Odisha,Uttar Pradesh,West Bengal                                                     1\n",
       "Andhra Pradesh,Telangana                                                                                     1\n",
       "Assam Bihar                                                                                                  1\n",
       "Chhattisgarh                                                                                                 1\n",
       "Delhi,Jharkhand                                                                                              1\n",
       "Odisha Odisha                                                                                                1\n",
       "Chandigarh,Gujarat,Karnataka,Kerala,Madhya Pradesh,Maharashtra                                               1\n",
       "Bihar,Maharashtra,Uttar Pradesh                                                                              1\n",
       "Andaman and Nicobar Islands                                                                                  1\n",
       "Andhra Pradesh,Goa,Maharashtra,Tamil Nadu,West Bengal Andhra Pradesh,Maharashtra,Tamil Nadu,West Bengal      1\n",
       "Chandigarh                                                                                                   1\n",
       "Jharkhand Bihar                                                                                              1\n",
       "Bihar,Chhattisgarh,Delhi,Jharkhand                                                                           1\n",
       "Tamil Nadu Delhi                                                                                             1\n",
       "West Bengal West Bengal West Bengal                                                                          1\n",
       "Kerala,Maharashtra,Uttar Pradesh                                                                             1\n",
       "Name: Location, dtype: int64"
      ]
     },
     "execution_count": 50,
     "metadata": {},
     "output_type": "execute_result"
    }
   ],
   "source": [
    "ngoimpact['Location'].value_counts()"
   ]
  },
  {
   "cell_type": "code",
   "execution_count": null,
   "metadata": {},
   "outputs": [],
   "source": []
  },
  {
   "cell_type": "markdown",
   "metadata": {},
   "source": [
    "Some have multiple locations"
   ]
  },
  {
   "cell_type": "markdown",
   "metadata": {},
   "source": [
    "**Area/Town Name**"
   ]
  },
  {
   "cell_type": "code",
   "execution_count": 46,
   "metadata": {},
   "outputs": [
    {
     "data": {
      "text/plain": [
       "N/A N/A                              12\n",
       "N/A N/A N/A                           1\n",
       "NEW DELHI                             1\n",
       "Ukhurl                                1\n",
       "New Delhi                             1\n",
       "gg                                    1\n",
       "N/A SATYABADI AND ASTARANGA BLOCK     1\n",
       "Ghasera                               1\n",
       "Name: Area/Town name, dtype: int64"
      ]
     },
     "execution_count": 46,
     "metadata": {},
     "output_type": "execute_result"
    }
   ],
   "source": [
    "ngoimpact['Area/Town name'].value_counts()"
   ]
  },
  {
   "cell_type": "code",
   "execution_count": 52,
   "metadata": {},
   "outputs": [],
   "source": [
    "import matplotlib.pyplot as plt\n",
    "import seaborn as sns"
   ]
  },
  {
   "cell_type": "code",
   "execution_count": 144,
   "metadata": {},
   "outputs": [
    {
     "data": {
      "text/plain": [
       "(0.0, 25.0)"
      ]
     },
     "execution_count": 144,
     "metadata": {},
     "output_type": "execute_result"
    },
    {
     "data": {
      "image/png": "[encoded data removed]",
      "text/plain": [
       "<Figure size 432x288 with 1 Axes>"
      ]
     },
     "metadata": {
      "needs_background": "light"
     },
     "output_type": "display_data"
    }
   ],
   "source": [
    "sns.scatterplot(ngoimpact['Number of full time employees'].str.replace(',','').fillna(0).astype(int), ngoimpact['Number of part time employees'].str.replace(',','').fillna(0).astype(int), data = ngoimpact, x_jitter = 1)\n",
    "plt.xlim(0,100)\n",
    "plt.ylim(0,25)"
   ]
  },
  {
   "cell_type": "code",
   "execution_count": 146,
   "metadata": {},
   "outputs": [
    {
     "data": {
      "text/plain": [
       "Index(['Link', 'About', 'VISION', 'Your organisation is registered as',\n",
       "       'Permanent account number (PAN)',\n",
       "       'Registration number / CIN & registration date',\n",
       "       '12A registration number & registration date',\n",
       "       '80G registration number & registration date',\n",
       "       'FCRA registration number & registration date',\n",
       "       '35AC registration number & registration date', 'Annual budget',\n",
       "       'Total income', 'Total expenditure', 'Average monthly expenditure',\n",
       "       'Total fixed assets', 'Long term loan', 'Total funding gap',\n",
       "       'Number of full time employees', 'Number of part time employees',\n",
       "       'Number of consultants', 'Number of volunteers / interns',\n",
       "       'Which operational area do you require additional help with?',\n",
       "       'Number of board members', 'Number of meetings done',\n",
       "       'Governance photos', 'Governance documents',\n",
       "       'Who are your major funders?', 'Name your funders',\n",
       "       'Project start date', 'Project end/expected close date',\n",
       "       'Project Sector', 'Location', 'City(ies)', 'Area/Town name', 'Budget',\n",
       "       'External funding received', 'Number of beneficiaries', 'Project type',\n",
       "       'Project photos', 'Project documents', 'Project description', 'Logo',\n",
       "       'Name', 'About Founder', 'Address', 'URL', 'Area of focus',\n",
       "       'Geographical Activity', 'Project Completed', 'Funding requirement'],\n",
       "      dtype='object')"
      ]
     },
     "execution_count": 146,
     "metadata": {},
     "output_type": "execute_result"
    }
   ],
   "source": [
    "ngoimpact.columns"
   ]
  },
  {
   "cell_type": "markdown",
   "metadata": {},
   "source": [
    "**Annual Budget,Total Income, Total Expenditure, Average Monthly Expenditure**\n",
    "\n",
    "We should remove the commas first and the currency sign, then convert to ints and change column name to include the currency we want it in."
   ]
  },
  {
   "cell_type": "code",
   "execution_count": 161,
   "metadata": {},
   "outputs": [
    {
     "data": {
      "text/plain": [
       "0       ₹8,822,990\n",
       "1       ₹2,500,000\n",
       "2       ₹1,065,000\n",
       "3      ₹27,310,000\n",
       "4       ₹2,000,750\n",
       "          ...     \n",
       "546            NaN\n",
       "547            NaN\n",
       "548     ₹1,223,000\n",
       "549     ₹1,223,000\n",
       "550     ₹1,223,000\n",
       "Name: Annual budget, Length: 551, dtype: object"
      ]
     },
     "execution_count": 161,
     "metadata": {},
     "output_type": "execute_result"
    }
   ],
   "source": [
    "ngoimpact['Annual budget']"
   ]
  },
  {
   "cell_type": "code",
   "execution_count": 158,
   "metadata": {},
   "outputs": [
    {
     "data": {
      "text/plain": [
       "0      ₹6,647,492\n",
       "1      ₹3,706,438\n",
       "2              ₹0\n",
       "3              ₹0\n",
       "4              ₹0\n",
       "          ...    \n",
       "546           NaN\n",
       "547           NaN\n",
       "548            ₹0\n",
       "549            ₹0\n",
       "550            ₹0\n",
       "Name: Total income, Length: 551, dtype: object"
      ]
     },
     "execution_count": 158,
     "metadata": {},
     "output_type": "execute_result"
    }
   ],
   "source": [
    "ngoimpact['Total income']"
   ]
  },
  {
   "cell_type": "code",
   "execution_count": 159,
   "metadata": {},
   "outputs": [
    {
     "data": {
      "text/plain": [
       "0      ₹6,995,030\n",
       "1      ₹2,686,084\n",
       "2              ₹0\n",
       "3              ₹0\n",
       "4              ₹0\n",
       "          ...    \n",
       "546           NaN\n",
       "547           NaN\n",
       "548            ₹0\n",
       "549            ₹0\n",
       "550            ₹0\n",
       "Name: Total expenditure, Length: 551, dtype: object"
      ]
     },
     "execution_count": 159,
     "metadata": {},
     "output_type": "execute_result"
    }
   ],
   "source": [
    "ngoimpact['Total expenditure']"
   ]
  },
  {
   "cell_type": "code",
   "execution_count": 160,
   "metadata": {},
   "outputs": [
    {
     "data": {
      "text/plain": [
       "0       ₹8,822,990\n",
       "1       ₹2,500,000\n",
       "2       ₹1,065,000\n",
       "3      ₹27,310,000\n",
       "4       ₹2,000,750\n",
       "          ...     \n",
       "546            NaN\n",
       "547            NaN\n",
       "548     ₹1,223,000\n",
       "549     ₹1,223,000\n",
       "550     ₹1,223,000\n",
       "Name: Average monthly expenditure, Length: 551, dtype: object"
      ]
     },
     "execution_count": 160,
     "metadata": {},
     "output_type": "execute_result"
    }
   ],
   "source": [
    "ngoimpact['Average monthly expenditure']"
   ]
  },
  {
   "cell_type": "markdown",
   "metadata": {},
   "source": [
    "**Which operational area do you require additional help with**\n"
   ]
  },
  {
   "cell_type": "code",
   "execution_count": 153,
   "metadata": {},
   "outputs": [
    {
     "data": {
      "text/plain": [
       "0      Marketing, Website Development, Fundraising\n",
       "1        General Volunteering Of Time, Fundraising\n",
       "2         Business Development, Finance, Marketing\n",
       "3                                      Fundraising\n",
       "4                                          Finance\n",
       "                          ...                     \n",
       "546                                            NaN\n",
       "547                                            NaN\n",
       "548                                        Finance\n",
       "549                                        Finance\n",
       "550                                        Finance\n",
       "Name: Which operational area do you require additional help with?, Length: 551, dtype: object"
      ]
     },
     "execution_count": 153,
     "metadata": {},
     "output_type": "execute_result"
    }
   ],
   "source": [
    "ngoimpact['Which operational area do you require additional help with?']"
   ]
  },
  {
   "cell_type": "markdown",
   "metadata": {},
   "source": [
    "**Number of board members**\n",
    "\n",
    "This should be converted to integer"
   ]
  },
  {
   "cell_type": "code",
   "execution_count": 152,
   "metadata": {},
   "outputs": [
    {
     "data": {
      "text/plain": [
       "0       7.0\n",
       "1      15.0\n",
       "2       4.0\n",
       "3       6.0\n",
       "4       4.0\n",
       "       ... \n",
       "546     NaN\n",
       "547     NaN\n",
       "548    12.0\n",
       "549    12.0\n",
       "550    12.0\n",
       "Name: Number of board members, Length: 551, dtype: float64"
      ]
     },
     "execution_count": 152,
     "metadata": {},
     "output_type": "execute_result"
    }
   ],
   "source": [
    "ngoimpact['Number of board members']"
   ]
  },
  {
   "cell_type": "code",
   "execution_count": 150,
   "metadata": {},
   "outputs": [
    {
     "data": {
      "text/plain": [
       "0       7\n",
       "1      15\n",
       "2       4\n",
       "3       6\n",
       "4       4\n",
       "       ..\n",
       "546     0\n",
       "547     0\n",
       "548    12\n",
       "549    12\n",
       "550    12\n",
       "Name: Number of board members, Length: 551, dtype: int32"
      ]
     },
     "execution_count": 150,
     "metadata": {},
     "output_type": "execute_result"
    }
   ],
   "source": [
    "ngoimpact['Number of board members'].fillna(0).astype(int)"
   ]
  }
 ],
 "metadata": {
  "kernelspec": {
   "display_name": "Python 3",
   "language": "python",
   "name": "python3"
  },
  "language_info": {
   "codemirror_mode": {
    "name": "ipython",
    "version": 3
   },
   "file_extension": ".py",
   "mimetype": "text/x-python",
   "name": "python",
   "nbconvert_exporter": "python",
   "pygments_lexer": "ipython3",
   "version": "3.8.3"
  }
 },
 "nbformat": 4,
 "nbformat_minor": 4
}
