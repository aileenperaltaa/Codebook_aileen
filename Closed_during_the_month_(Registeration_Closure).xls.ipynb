{
 "cells": [
  {
   "cell_type": "markdown",
   "id": "5f1bd27f-04e7-48cf-aac6-d7ba8291f698",
   "metadata": {},
   "source": [
    "# Codebook"
   ]
  },
  {
   "cell_type": "markdown",
   "id": "2cd7ffec-24ce-414e-accc-d5a36a3ea4c5",
   "metadata": {},
   "source": [
    "Author: [Patrick Guo](https://github.com/shpatrickguo)"
   ]
  },
  {
   "cell_type": "markdown",
   "id": "5ff009b5-d869-4e2d-99bf-96dc165d6959",
   "metadata": {},
   "source": [
    "## Closed_during_the_month_(Registeration_Closure).xls\n",
    "**Data provided by:** NGO Darpan<br>\n",
    "**Source:** s3://daanmatchdatafiles/Closed_during_the_month_(Registeration_Closure).xls<br>\n",
    "**Type:** xlsx<br>\n",
    "**Last Modified:** October 27, 2021, 16:44:55 (UTC-07:00)<br>\n",
    "**Size:** 520.5 KB\n",
    "\n",
    "```Closed_during_the_month_(Registeration_Closure).xls``` named ```reg_closed_df``` contains: <br>\n",
    "List of companies struck off/closed during the month of August 2014.\n",
    "- ```COLUMN NAME```: Content - Issues/Transformations\n",
    "- ```S.No```: Index \n",
    "- ```CIN```: Corporate Identification number\n",
    "- ```COMPANY_NAME```: Name\n",
    "- ```COMPANY_STATUS```: Status\n",
    "- ```TYPE```: Government or Non-Government\n",
    "- ```DATE_OF_REGISTRATION```: Date of registration\n",
    "- ```LISTED```: Listed or Unlisted - 2 Missing values\n",
    "- ```COMPANY_INDICATOR```: Indian Company or not.\n",
    "- ```REGISTERED_STATE```: Registered State\n",
    "- ```ROC_CODE```: Registrar of Companies Code\n",
    "- ```INDUSTRIAL-CLASIFICATION```: 5-digit Industrial classification code.\n",
    "- ```DESCRIPTION```: Decription of the company's industry. - 41 Missing values."
   ]
  },
  {
   "cell_type": "markdown",
   "id": "9ebb903c-6d3f-4ffc-8af7-2985dc1ce159",
   "metadata": {},
   "source": [
    "# Import Libraries"
   ]
  },
  {
   "cell_type": "code",
   "execution_count": 52,
   "id": "c495e91b-b327-4824-af7c-67a9a193c638",
   "metadata": {},
   "outputs": [],
   "source": [
    "import boto3\n",
    "import io\n",
    "import string\n",
    "import requests\n",
    "\n",
    "import pandas as pd\n",
    "import numpy as np\n",
    "\n",
    "import seaborn as sns\n",
    "import matplotlib.pyplot as plt\n",
    "import missingno as msno"
   ]
  },
  {
   "cell_type": "markdown",
   "id": "4b4f9f78-6db0-4864-bb90-fd4049189383",
   "metadata": {},
   "source": [
    "# Load Data"
   ]
  },
  {
   "cell_type": "code",
   "execution_count": 53,
   "id": "1865871f-3707-41c5-a451-8b3ba0f6fdd8",
   "metadata": {},
   "outputs": [],
   "source": [
    "client = boto3.client('s3')\n",
    "resource = boto3.resource('s3')"
   ]
  },
  {
   "cell_type": "code",
   "execution_count": 54,
   "id": "6963c5e4-64c1-4696-b5a7-691944993346",
   "metadata": {},
   "outputs": [],
   "source": [
    "obj = client.get_object(Bucket='daanmatchdatafiles', Key='Closed_during_the_month_(Registeration_Closure).xls')\n",
    "df = pd.read_excel(io.BytesIO(obj['Body'].read()))"
   ]
  },
  {
   "cell_type": "markdown",
   "id": "73b3074d-02b8-4f33-bec8-ff610a2fb1f1",
   "metadata": {
    "tags": []
   },
   "source": [
    "# Registration Closure Dataset"
   ]
  },
  {
   "cell_type": "code",
   "execution_count": 55,
   "id": "f45667ec-c74d-4519-8fb0-cf1a10d1266d",
   "metadata": {},
   "outputs": [],
   "source": [
    "# First 4 rows are blank and 5th row is column names\n",
    "reg_closed_df = df.copy()\n",
    "# Set column names to row 5\n",
    "reg_closed_df.columns = reg_closed_df.iloc[4]\n",
    "# Drop first 5 rows\n",
    "reg_closed_df = reg_closed_df.iloc[5:, :]\n",
    "# Reset Index\n",
    "reg_closed_df.reset_index(drop = True, inplace = True)"
   ]
  },
  {
   "cell_type": "code",
   "execution_count": 56,
   "id": "86ad0115-a9b0-4f65-b076-ea98bd783444",
   "metadata": {},
   "outputs": [
    {
     "data": {
      "text/html": [
       "<div>\n",
       "<style scoped>\n",
       "    .dataframe tbody tr th:only-of-type {\n",
       "        vertical-align: middle;\n",
       "    }\n",
       "\n",
       "    .dataframe tbody tr th {\n",
       "        vertical-align: top;\n",
       "    }\n",
       "\n",
       "    .dataframe thead th {\n",
       "        text-align: right;\n",
       "    }\n",
       "</style>\n",
       "<table border=\"1\" class=\"dataframe\">\n",
       "  <thead>\n",
       "    <tr style=\"text-align: right;\">\n",
       "      <th>4</th>\n",
       "      <th>S.No</th>\n",
       "      <th>CIN</th>\n",
       "      <th>COMPANY_NAME</th>\n",
       "      <th>CLASS</th>\n",
       "      <th>COMPANY_STATUS</th>\n",
       "      <th>TYPE</th>\n",
       "      <th>DATE_OF_REGISTRATION</th>\n",
       "      <th>LISTED</th>\n",
       "      <th>COMPANY_INDICATOR</th>\n",
       "      <th>REGISTERED_STATE</th>\n",
       "      <th>ROC_CODE</th>\n",
       "      <th>INDUSTRIAL_CLASIFICATION</th>\n",
       "      <th>DESCRIPTION</th>\n",
       "    </tr>\n",
       "  </thead>\n",
       "  <tbody>\n",
       "    <tr>\n",
       "      <th>0</th>\n",
       "      <td>1</td>\n",
       "      <td>U36100MH2013PTC247886</td>\n",
       "      <td>NEW VIVEK JEWELLERS PRIVATE LIMITED</td>\n",
       "      <td>Private</td>\n",
       "      <td>STRIKE OFF</td>\n",
       "      <td>Nongovernment</td>\n",
       "      <td>2013-09-05 00:00:00</td>\n",
       "      <td>Unlisted</td>\n",
       "      <td>Indian Company</td>\n",
       "      <td>Maharashtra</td>\n",
       "      <td>RoC-Mumbai</td>\n",
       "      <td>36100</td>\n",
       "      <td>Manufacturing (Others)</td>\n",
       "    </tr>\n",
       "    <tr>\n",
       "      <th>1</th>\n",
       "      <td>2</td>\n",
       "      <td>U70100KL2013PTC034127</td>\n",
       "      <td>PANAMANNA PROPERTY PRIVATE LIMITED</td>\n",
       "      <td>Private</td>\n",
       "      <td>STRIKE OFF</td>\n",
       "      <td>Nongovernment</td>\n",
       "      <td>2013-05-17 00:00:00</td>\n",
       "      <td>Unlisted</td>\n",
       "      <td>Indian Company</td>\n",
       "      <td>Kerala</td>\n",
       "      <td>ROC-Ernakulam</td>\n",
       "      <td>70100</td>\n",
       "      <td>Real Estate and Renting</td>\n",
       "    </tr>\n",
       "    <tr>\n",
       "      <th>2</th>\n",
       "      <td>3</td>\n",
       "      <td>U17120GJ2013PTC076589</td>\n",
       "      <td>EMBCOTT TEXTILES PRIVATE LIMITED</td>\n",
       "      <td>Private</td>\n",
       "      <td>STRIKE OFF</td>\n",
       "      <td>Nongovernment</td>\n",
       "      <td>2013-08-26 00:00:00</td>\n",
       "      <td>Unlisted</td>\n",
       "      <td>Indian Company</td>\n",
       "      <td>Gujarat</td>\n",
       "      <td>RoC-Ahmedabad</td>\n",
       "      <td>17120</td>\n",
       "      <td>Manufacturing (Textiles)</td>\n",
       "    </tr>\n",
       "    <tr>\n",
       "      <th>3</th>\n",
       "      <td>4</td>\n",
       "      <td>U52609HR2013PLC049291</td>\n",
       "      <td>SRS MODERN RETAIL LIMITED</td>\n",
       "      <td>Public</td>\n",
       "      <td>STRIKE OFF</td>\n",
       "      <td>Nongovernment</td>\n",
       "      <td>2013-05-24 00:00:00</td>\n",
       "      <td>Unlisted</td>\n",
       "      <td>Indian Company</td>\n",
       "      <td>Haryana</td>\n",
       "      <td>RoC-Delhi</td>\n",
       "      <td>52609</td>\n",
       "      <td>Trading</td>\n",
       "    </tr>\n",
       "    <tr>\n",
       "      <th>4</th>\n",
       "      <td>5</td>\n",
       "      <td>U52500TZ2013PTC019549</td>\n",
       "      <td>KARAKORAM SYSTEMS AND SOLUTIONS PRIVATE LIMITED</td>\n",
       "      <td>Private</td>\n",
       "      <td>STRIKE OFF</td>\n",
       "      <td>Nongovernment</td>\n",
       "      <td>2013-05-30 00:00:00</td>\n",
       "      <td>Unlisted</td>\n",
       "      <td>Indian Company</td>\n",
       "      <td>Tamil Nadu</td>\n",
       "      <td>RoC-Coimbatore</td>\n",
       "      <td>52500</td>\n",
       "      <td>Trading</td>\n",
       "    </tr>\n",
       "  </tbody>\n",
       "</table>\n",
       "</div>"
      ],
      "text/plain": [
       "4 S.No                    CIN  \\\n",
       "0    1  U36100MH2013PTC247886   \n",
       "1    2  U70100KL2013PTC034127   \n",
       "2    3  U17120GJ2013PTC076589   \n",
       "3    4  U52609HR2013PLC049291   \n",
       "4    5  U52500TZ2013PTC019549   \n",
       "\n",
       "4                                     COMPANY_NAME    CLASS COMPANY_STATUS  \\\n",
       "0              NEW VIVEK JEWELLERS PRIVATE LIMITED  Private     STRIKE OFF   \n",
       "1               PANAMANNA PROPERTY PRIVATE LIMITED  Private     STRIKE OFF   \n",
       "2                 EMBCOTT TEXTILES PRIVATE LIMITED  Private     STRIKE OFF   \n",
       "3                        SRS MODERN RETAIL LIMITED   Public     STRIKE OFF   \n",
       "4  KARAKORAM SYSTEMS AND SOLUTIONS PRIVATE LIMITED  Private     STRIKE OFF   \n",
       "\n",
       "4           TYPE DATE_OF_REGISTRATION    LISTED COMPANY_INDICATOR  \\\n",
       "0  Nongovernment  2013-09-05 00:00:00  Unlisted    Indian Company   \n",
       "1  Nongovernment  2013-05-17 00:00:00  Unlisted    Indian Company   \n",
       "2  Nongovernment  2013-08-26 00:00:00  Unlisted    Indian Company   \n",
       "3  Nongovernment  2013-05-24 00:00:00  Unlisted    Indian Company   \n",
       "4  Nongovernment  2013-05-30 00:00:00  Unlisted    Indian Company   \n",
       "\n",
       "4 REGISTERED_STATE        ROC_CODE INDUSTRIAL_CLASIFICATION  \\\n",
       "0      Maharashtra      RoC-Mumbai                    36100   \n",
       "1           Kerala   ROC-Ernakulam                    70100   \n",
       "2          Gujarat  RoC-Ahmedabad                     17120   \n",
       "3          Haryana       RoC-Delhi                    52609   \n",
       "4       Tamil Nadu  RoC-Coimbatore                    52500   \n",
       "\n",
       "4               DESCRIPTION  \n",
       "0    Manufacturing (Others)  \n",
       "1   Real Estate and Renting  \n",
       "2  Manufacturing (Textiles)  \n",
       "3                   Trading  \n",
       "4                   Trading  "
      ]
     },
     "execution_count": 56,
     "metadata": {},
     "output_type": "execute_result"
    }
   ],
   "source": [
    "reg_closed_df.head()"
   ]
  },
  {
   "cell_type": "code",
   "execution_count": 57,
   "id": "399c1f80-871a-45c3-a3f6-39a38112a983",
   "metadata": {},
   "outputs": [
    {
     "name": "stdout",
     "output_type": "stream",
     "text": [
      "<class 'pandas.core.frame.DataFrame'>\n",
      "RangeIndex: 1850 entries, 0 to 1849\n",
      "Data columns (total 13 columns):\n",
      " #   Column                    Non-Null Count  Dtype \n",
      "---  ------                    --------------  ----- \n",
      " 0   S.No                      1850 non-null   object\n",
      " 1   CIN                       1850 non-null   object\n",
      " 2   COMPANY_NAME              1850 non-null   object\n",
      " 3   CLASS                     1850 non-null   object\n",
      " 4   COMPANY_STATUS            1850 non-null   object\n",
      " 5   TYPE                      1850 non-null   object\n",
      " 6   DATE_OF_REGISTRATION      1850 non-null   object\n",
      " 7   LISTED                    1848 non-null   object\n",
      " 8   COMPANY_INDICATOR         1850 non-null   object\n",
      " 9   REGISTERED_STATE          1850 non-null   object\n",
      " 10  ROC_CODE                  1850 non-null   object\n",
      " 11  INDUSTRIAL_CLASIFICATION  1850 non-null   object\n",
      " 12  DESCRIPTION               1809 non-null   object\n",
      "dtypes: object(13)\n",
      "memory usage: 188.0+ KB\n"
     ]
    }
   ],
   "source": [
    "# Examing the structure of the dataframe\n",
    "reg_closed_df.info()"
   ]
  },
  {
   "cell_type": "code",
   "execution_count": 58,
   "id": "c12053b4-dc5e-415c-a088-51e396769f41",
   "metadata": {},
   "outputs": [
    {
     "data": {
      "text/html": [
       "<div>\n",
       "<style scoped>\n",
       "    .dataframe tbody tr th:only-of-type {\n",
       "        vertical-align: middle;\n",
       "    }\n",
       "\n",
       "    .dataframe tbody tr th {\n",
       "        vertical-align: top;\n",
       "    }\n",
       "\n",
       "    .dataframe thead th {\n",
       "        text-align: right;\n",
       "    }\n",
       "</style>\n",
       "<table border=\"1\" class=\"dataframe\">\n",
       "  <thead>\n",
       "    <tr style=\"text-align: right;\">\n",
       "      <th>4</th>\n",
       "      <th>S.No</th>\n",
       "      <th>CIN</th>\n",
       "      <th>COMPANY_NAME</th>\n",
       "      <th>CLASS</th>\n",
       "      <th>COMPANY_STATUS</th>\n",
       "      <th>TYPE</th>\n",
       "      <th>DATE_OF_REGISTRATION</th>\n",
       "      <th>LISTED</th>\n",
       "      <th>COMPANY_INDICATOR</th>\n",
       "      <th>REGISTERED_STATE</th>\n",
       "      <th>ROC_CODE</th>\n",
       "      <th>INDUSTRIAL_CLASIFICATION</th>\n",
       "      <th>DESCRIPTION</th>\n",
       "    </tr>\n",
       "  </thead>\n",
       "  <tbody>\n",
       "    <tr>\n",
       "      <th>count</th>\n",
       "      <td>1850</td>\n",
       "      <td>1850</td>\n",
       "      <td>1850</td>\n",
       "      <td>1850</td>\n",
       "      <td>1850</td>\n",
       "      <td>1850</td>\n",
       "      <td>1850</td>\n",
       "      <td>1848</td>\n",
       "      <td>1850</td>\n",
       "      <td>1850</td>\n",
       "      <td>1850</td>\n",
       "      <td>1850</td>\n",
       "      <td>1809</td>\n",
       "    </tr>\n",
       "    <tr>\n",
       "      <th>unique</th>\n",
       "      <td>1850</td>\n",
       "      <td>1850</td>\n",
       "      <td>1850</td>\n",
       "      <td>2</td>\n",
       "      <td>4</td>\n",
       "      <td>1</td>\n",
       "      <td>1452</td>\n",
       "      <td>2</td>\n",
       "      <td>1</td>\n",
       "      <td>22</td>\n",
       "      <td>22</td>\n",
       "      <td>445</td>\n",
       "      <td>19</td>\n",
       "    </tr>\n",
       "    <tr>\n",
       "      <th>top</th>\n",
       "      <td>1</td>\n",
       "      <td>U36100MH2013PTC247886</td>\n",
       "      <td>NEW VIVEK JEWELLERS PRIVATE LIMITED</td>\n",
       "      <td>Private</td>\n",
       "      <td>STRIKE OFF</td>\n",
       "      <td>Nongovernment</td>\n",
       "      <td>2008-03-07 00:00:00</td>\n",
       "      <td>Unlisted</td>\n",
       "      <td>Indian Company</td>\n",
       "      <td>Maharashtra</td>\n",
       "      <td>RoC-Delhi</td>\n",
       "      <td>72200</td>\n",
       "      <td>Business Services</td>\n",
       "    </tr>\n",
       "    <tr>\n",
       "      <th>freq</th>\n",
       "      <td>1</td>\n",
       "      <td>1</td>\n",
       "      <td>1</td>\n",
       "      <td>1755</td>\n",
       "      <td>1631</td>\n",
       "      <td>1850</td>\n",
       "      <td>8</td>\n",
       "      <td>1846</td>\n",
       "      <td>1850</td>\n",
       "      <td>443</td>\n",
       "      <td>381</td>\n",
       "      <td>80</td>\n",
       "      <td>440</td>\n",
       "    </tr>\n",
       "  </tbody>\n",
       "</table>\n",
       "</div>"
      ],
      "text/plain": [
       "4       S.No                    CIN                         COMPANY_NAME  \\\n",
       "count   1850                   1850                                 1850   \n",
       "unique  1850                   1850                                 1850   \n",
       "top        1  U36100MH2013PTC247886  NEW VIVEK JEWELLERS PRIVATE LIMITED   \n",
       "freq       1                      1                                    1   \n",
       "\n",
       "4         CLASS COMPANY_STATUS           TYPE DATE_OF_REGISTRATION    LISTED  \\\n",
       "count      1850           1850           1850                 1850      1848   \n",
       "unique        2              4              1                 1452         2   \n",
       "top     Private     STRIKE OFF  Nongovernment  2008-03-07 00:00:00  Unlisted   \n",
       "freq       1755           1631           1850                    8      1846   \n",
       "\n",
       "4      COMPANY_INDICATOR REGISTERED_STATE   ROC_CODE INDUSTRIAL_CLASIFICATION  \\\n",
       "count               1850             1850       1850                     1850   \n",
       "unique                 1               22         22                      445   \n",
       "top       Indian Company      Maharashtra  RoC-Delhi                    72200   \n",
       "freq                1850              443        381                       80   \n",
       "\n",
       "4             DESCRIPTION  \n",
       "count                1809  \n",
       "unique                 19  \n",
       "top     Business Services  \n",
       "freq                  440  "
      ]
     },
     "execution_count": 58,
     "metadata": {},
     "output_type": "execute_result"
    }
   ],
   "source": [
    "# Examine the descriptive statistics of the dataframe\n",
    "reg_closed_df.describe()"
   ]
  },
  {
   "cell_type": "markdown",
   "id": "10cf46dd-2fac-4138-9f4b-51f43670081d",
   "metadata": {},
   "source": [
    "## Missing values"
   ]
  },
  {
   "cell_type": "code",
   "execution_count": 59,
   "id": "636a6637-7bbe-4a4c-b02c-e46d57348e83",
   "metadata": {},
   "outputs": [
    {
     "name": "stdout",
     "output_type": "stream",
     "text": [
      "Total Missing Values:\n",
      " 4\n",
      "S.No                         0\n",
      "CIN                          0\n",
      "COMPANY_NAME                 0\n",
      "CLASS                        0\n",
      "COMPANY_STATUS               0\n",
      "TYPE                         0\n",
      "DATE_OF_REGISTRATION         0\n",
      "LISTED                       2\n",
      "COMPANY_INDICATOR            0\n",
      "REGISTERED_STATE             0\n",
      "ROC_CODE                     0\n",
      "INDUSTRIAL_CLASIFICATION     0\n",
      "DESCRIPTION                 41\n",
      "dtype: int64\n"
     ]
    }
   ],
   "source": [
    "# Identify the nullity of the dataframe\n",
    "missing_values_hist = reg_closed_df.isna().sum()\n",
    "print('Total Missing Values:\\n', missing_values_hist)"
   ]
  },
  {
   "cell_type": "code",
   "execution_count": 60,
   "id": "0834fab3-67e4-449b-a5aa-796c62f80a16",
   "metadata": {},
   "outputs": [
    {
     "name": "stdout",
     "output_type": "stream",
     "text": [
      "Percentage of Missing Values:\n",
      " 4\n",
      "S.No                        0.000000\n",
      "CIN                         0.000000\n",
      "COMPANY_NAME                0.000000\n",
      "CLASS                       0.000000\n",
      "COMPANY_STATUS              0.000000\n",
      "TYPE                        0.000000\n",
      "DATE_OF_REGISTRATION        0.000000\n",
      "LISTED                      0.108108\n",
      "COMPANY_INDICATOR           0.000000\n",
      "REGISTERED_STATE            0.000000\n",
      "ROC_CODE                    0.000000\n",
      "INDUSTRIAL_CLASIFICATION    0.000000\n",
      "DESCRIPTION                 2.216216\n",
      "dtype: float64\n"
     ]
    }
   ],
   "source": [
    "# Identify the percentage of nullity in the dataframe for each collumn\n",
    "missing_values_hist_perc = reg_closed_df.isnull().mean() * 100\n",
    "print('Percentage of Missing Values:\\n', missing_values_hist_perc)"
   ]
  },
  {
   "cell_type": "code",
   "execution_count": 61,
   "id": "e26673dd-cd5b-4768-a78d-515eb7326cef",
   "metadata": {},
   "outputs": [
    {
     "data": {
      "image/png": "[encoded data removed]",
      "text/plain": [
       "<Figure size 1800x720 with 3 Axes>"
      ]
     },
     "metadata": {
      "needs_background": "light"
     },
     "output_type": "display_data"
    }
   ],
   "source": [
    "# Visualize the completeness of the dataframe\n",
    "msno.bar(reg_closed_df)\n",
    "plt.show()"
   ]
  },
  {
   "cell_type": "code",
   "execution_count": 62,
   "id": "7ea52744-7b4a-4c44-b515-a62525a9ef67",
   "metadata": {},
   "outputs": [
    {
     "data": {
      "image/png": "[encoded data removed]",
      "text/plain": [
       "<Figure size 1800x720 with 2 Axes>"
      ]
     },
     "metadata": {
      "needs_background": "light"
     },
     "output_type": "display_data"
    }
   ],
   "source": [
    "# Visualize the locations of the missing values of the dataset\n",
    "msno.matrix(reg_closed_df)\n",
    "plt.show()"
   ]
  },
  {
   "cell_type": "markdown",
   "id": "7ad922ea-e092-45c9-bee7-a076788b6844",
   "metadata": {},
   "source": [
    "## Observations\n",
    "- ```LISTED``` is missing 0.108%.\n",
    "- ```DESCRIPTION``` is missing 2.21%."
   ]
  },
  {
   "cell_type": "markdown",
   "id": "91f56116-eb73-46f1-9108-3bcbdac6676f",
   "metadata": {},
   "source": [
    "# Columns"
   ]
  },
  {
   "cell_type": "code",
   "execution_count": 63,
   "id": "49cf45a5-c4ca-480b-865c-7dec46366a3e",
   "metadata": {},
   "outputs": [
    {
     "data": {
      "text/plain": [
       "Index(['S.No', 'CIN', 'COMPANY_NAME', 'CLASS', 'COMPANY_STATUS', 'TYPE',\n",
       "       'DATE_OF_REGISTRATION', 'LISTED', 'COMPANY_INDICATOR',\n",
       "       'REGISTERED_STATE', 'ROC_CODE', 'INDUSTRIAL_CLASIFICATION',\n",
       "       'DESCRIPTION'],\n",
       "      dtype='object', name=4)"
      ]
     },
     "execution_count": 63,
     "metadata": {},
     "output_type": "execute_result"
    }
   ],
   "source": [
    "reg_closed_df.columns"
   ]
  },
  {
   "cell_type": "markdown",
   "id": "de56d9f8-307a-40e5-81bc-2fea7adf06b0",
   "metadata": {},
   "source": [
    "## S.No"
   ]
  },
  {
   "cell_type": "code",
   "execution_count": 64,
   "id": "a1fd048d-ccae-414e-9ca5-69da5bda3658",
   "metadata": {},
   "outputs": [
    {
     "data": {
      "text/plain": [
       "0          1\n",
       "1          2\n",
       "2          3\n",
       "3          4\n",
       "4          5\n",
       "        ... \n",
       "1845    1846\n",
       "1846    1847\n",
       "1847    1848\n",
       "1848    1849\n",
       "1849    1850\n",
       "Name: S.No, Length: 1850, dtype: object"
      ]
     },
     "execution_count": 64,
     "metadata": {},
     "output_type": "execute_result"
    }
   ],
   "source": [
    "reg_closed_df[\"S.No\"]"
   ]
  },
  {
   "cell_type": "markdown",
   "id": "e214760d-9f31-40f9-8a31-1dd63a71b03a",
   "metadata": {},
   "source": [
    "### Observations\n",
    "```S.No``` represents an index of companies."
   ]
  },
  {
   "cell_type": "markdown",
   "id": "d41f9d11-16a0-43ca-9127-337d995bd986",
   "metadata": {},
   "source": [
    "## CIN"
   ]
  },
  {
   "cell_type": "code",
   "execution_count": 65,
   "id": "e8db03ec-eab9-4717-b784-fd6e824a4e33",
   "metadata": {},
   "outputs": [
    {
     "data": {
      "text/plain": [
       "0       U36100MH2013PTC247886\n",
       "1       U70100KL2013PTC034127\n",
       "2       U17120GJ2013PTC076589\n",
       "3       U52609HR2013PLC049291\n",
       "4       U52500TZ2013PTC019549\n",
       "                ...          \n",
       "1845    U29119PB2013PTC037384\n",
       "1846    U29119PB2013PTC037395\n",
       "1847    U70200HR2013PTC048984\n",
       "1848    U17200GJ2013PTC076736\n",
       "1849    U51109RJ2013PTC043253\n",
       "Name: CIN, Length: 1850, dtype: object"
      ]
     },
     "execution_count": 65,
     "metadata": {},
     "output_type": "execute_result"
    }
   ],
   "source": [
    "reg_closed_df[\"CIN\"]"
   ]
  },
  {
   "cell_type": "code",
   "execution_count": 66,
   "id": "d5658405-711d-47c5-9159-4464fa485021",
   "metadata": {},
   "outputs": [
    {
     "data": {
      "text/plain": [
       "array([21])"
      ]
     },
     "execution_count": 66,
     "metadata": {},
     "output_type": "execute_result"
    }
   ],
   "source": [
    "# Check length of each CIN.\n",
    "reg_closed_df[\"CIN\"].apply(len).unique()"
   ]
  },
  {
   "cell_type": "code",
   "execution_count": 67,
   "id": "bc980f66-94e5-4ed8-b65f-e59545240aef",
   "metadata": {},
   "outputs": [
    {
     "data": {
      "text/plain": [
       "U36100MH2013PTC247886    1\n",
       "U01403GJ2011PTC065301    1\n",
       "U70100TN2011PTC080376    1\n",
       "U72200MP2011PTC025876    1\n",
       "U34201TN2011PTC080345    1\n",
       "Name: CIN, dtype: int64"
      ]
     },
     "execution_count": 67,
     "metadata": {},
     "output_type": "execute_result"
    }
   ],
   "source": [
    "# Check for duplicates.\n",
    "reg_closed_df[\"CIN\"].value_counts(ascending=False).head()"
   ]
  },
  {
   "cell_type": "markdown",
   "id": "991cd683-f5a1-4230-925d-6e7651ae2a73",
   "metadata": {},
   "source": [
    "### Observations\n",
    "```CIN``` represents Corporate Identification Number (CIN). It is a 21 digits alpha-numeric code issued to companies incorporated within the country on being registered by the ROC situated in different states across India under the MCA. <br>\n",
    "- They are no duplicates."
   ]
  },
  {
   "cell_type": "code",
   "execution_count": null,
   "id": "1a836c0f-3a0b-48f9-bcab-1dbad22170cb",
   "metadata": {},
   "outputs": [],
   "source": []
  },
  {
   "cell_type": "markdown",
   "id": "075a64b5-9c3d-4014-82a2-80dc7919791c",
   "metadata": {},
   "source": [
    "## COMPANY_NAME"
   ]
  },
  {
   "cell_type": "code",
   "execution_count": 68,
   "id": "6e8236f2-2e40-4a2b-b1d9-763a7e2fdf44",
   "metadata": {},
   "outputs": [
    {
     "data": {
      "text/plain": [
       "0                   NEW VIVEK JEWELLERS PRIVATE LIMITED\n",
       "1                    PANAMANNA PROPERTY PRIVATE LIMITED\n",
       "2                      EMBCOTT TEXTILES PRIVATE LIMITED\n",
       "3                             SRS MODERN RETAIL LIMITED\n",
       "4       KARAKORAM SYSTEMS AND SOLUTIONS PRIVATE LIMITED\n",
       "                             ...                       \n",
       "1845                         OGL ENERGY PRIVATE LIMITED\n",
       "1846                 OSWAL GREEN ENERGY PRIVATE LIMITED\n",
       "1847                 RISHESWAR BUILDCON PRIVATE LIMITED\n",
       "1848         THRIVE TEXTILE CORPORATION PRIVATE LIMITED\n",
       "1849                  AGRYD ENTERPRISES PRIVATE LIMITED\n",
       "Name: COMPANY_NAME, Length: 1850, dtype: object"
      ]
     },
     "execution_count": 68,
     "metadata": {},
     "output_type": "execute_result"
    }
   ],
   "source": [
    "reg_closed_df[\"COMPANY_NAME\"]"
   ]
  },
  {
   "cell_type": "code",
   "execution_count": 69,
   "id": "a90d7ffb-c9aa-4725-9e5a-9005bbf822e1",
   "metadata": {},
   "outputs": [
    {
     "data": {
      "text/plain": [
       "NEW VIVEK JEWELLERS PRIVATE LIMITED             1\n",
       "IMPROBUS AGRI SOLUTION PRIVATE LIMITED          1\n",
       "SREE RAMANA FARM AND RESORTS PRIVATE LIMITED    1\n",
       "IMPRESIONANTE INFOTECH PRIVATE LIMITED          1\n",
       "ACS AUTOPARTS PRIVATE LIMITED                   1\n",
       "Name: COMPANY_NAME, dtype: int64"
      ]
     },
     "execution_count": 69,
     "metadata": {},
     "output_type": "execute_result"
    }
   ],
   "source": [
    "# Check for duplicates.\n",
    "reg_closed_df[\"COMPANY_NAME\"].value_counts(ascending=False).head()"
   ]
  },
  {
   "cell_type": "markdown",
   "id": "9fcfc6bc-9d37-4746-b44e-2dcda104dab7",
   "metadata": {},
   "source": [
    "### Observations\n",
    "```COMPANY_NAME``` represents the name of the company.\n",
    "- They are no duplicates."
   ]
  },
  {
   "cell_type": "markdown",
   "id": "7886d5aa-9bcf-4885-bfd8-e7f957b573f6",
   "metadata": {},
   "source": [
    "## CLASS"
   ]
  },
  {
   "cell_type": "code",
   "execution_count": 70,
   "id": "2b40638d-2069-4f56-b65d-8f64f2b948c6",
   "metadata": {},
   "outputs": [
    {
     "data": {
      "text/plain": [
       "0       Private\n",
       "1       Private\n",
       "2       Private\n",
       "3        Public\n",
       "4       Private\n",
       "         ...   \n",
       "1845    Private\n",
       "1846    Private\n",
       "1847    Private\n",
       "1848    Private\n",
       "1849    Private\n",
       "Name: CLASS, Length: 1850, dtype: object"
      ]
     },
     "execution_count": 70,
     "metadata": {},
     "output_type": "execute_result"
    }
   ],
   "source": [
    "reg_closed_df[\"CLASS\"]"
   ]
  },
  {
   "cell_type": "code",
   "execution_count": 71,
   "id": "7d02fb01-d5a5-40b9-8bc6-85a0dda18992",
   "metadata": {},
   "outputs": [
    {
     "data": {
      "text/plain": [
       "Private    1755\n",
       "Public       95\n",
       "Name: CLASS, dtype: int64"
      ]
     },
     "execution_count": 71,
     "metadata": {},
     "output_type": "execute_result"
    }
   ],
   "source": [
    "# Check unique Classes\n",
    "reg_closed_df[\"CLASS\"].value_counts(ascending=False).head()"
   ]
  },
  {
   "cell_type": "code",
   "execution_count": 72,
   "id": "09395498-a2dc-45a8-813f-db9e072c5390",
   "metadata": {},
   "outputs": [
    {
     "data": {
      "image/png": "[encoded data removed]",
      "text/plain": [
       "<Figure size 432x288 with 1 Axes>"
      ]
     },
     "metadata": {
      "needs_background": "light"
     },
     "output_type": "display_data"
    }
   ],
   "source": [
    "# Visualize the proportion of public and private companies.\n",
    "reg_closed_df[\"CLASS\"].value_counts(ascending=False).plot(kind = 'barh')\n",
    "plt.show()"
   ]
  },
  {
   "cell_type": "markdown",
   "id": "d4aaf223-e901-487a-a3fb-570f51934f9d",
   "metadata": {},
   "source": [
    "### Observations\n",
    "```CLASS``` indicates whether the company is Private or Public.\n",
    "- There are a large proportion of private companies compared to public companies."
   ]
  },
  {
   "cell_type": "markdown",
   "id": "3a59a229-3d5d-4957-9143-4e78ce59367b",
   "metadata": {},
   "source": [
    "## COMPANY_STATUS"
   ]
  },
  {
   "cell_type": "code",
   "execution_count": 73,
   "id": "c7bb4b02-3479-463e-8251-6a6f96d2aaae",
   "metadata": {},
   "outputs": [
    {
     "data": {
      "text/plain": [
       "0       STRIKE OFF\n",
       "1       STRIKE OFF\n",
       "2       STRIKE OFF\n",
       "3       STRIKE OFF\n",
       "4       STRIKE OFF\n",
       "           ...    \n",
       "1845    STRIKE OFF\n",
       "1846    STRIKE OFF\n",
       "1847    STRIKE OFF\n",
       "1848    STRIKE OFF\n",
       "1849    STRIKE OFF\n",
       "Name: COMPANY_STATUS, Length: 1850, dtype: object"
      ]
     },
     "execution_count": 73,
     "metadata": {},
     "output_type": "execute_result"
    }
   ],
   "source": [
    "reg_closed_df[\"COMPANY_STATUS\"]"
   ]
  },
  {
   "cell_type": "code",
   "execution_count": 74,
   "id": "2395df35-7504-4ceb-81e1-d81e53a195ca",
   "metadata": {},
   "outputs": [
    {
     "data": {
      "text/plain": [
       "STRIKE OFF     1631\n",
       "AMALGAMATED     206\n",
       "DISSOLVED        10\n",
       "ACTIVE            3\n",
       "Name: COMPANY_STATUS, dtype: int64"
      ]
     },
     "execution_count": 74,
     "metadata": {},
     "output_type": "execute_result"
    }
   ],
   "source": [
    "# Check unique\n",
    "reg_closed_df[\"COMPANY_STATUS\"].value_counts(ascending=False).head()"
   ]
  },
  {
   "cell_type": "code",
   "execution_count": 75,
   "id": "1db86005-aa3a-43c9-aeea-98626cb65522",
   "metadata": {},
   "outputs": [
    {
     "data": {
      "image/png": "[encoded data removed]",
      "text/plain": [
       "<Figure size 432x288 with 1 Axes>"
      ]
     },
     "metadata": {
      "needs_background": "light"
     },
     "output_type": "display_data"
    }
   ],
   "source": [
    "# Visualize the proportion of public and private companies.\n",
    "reg_closed_df[\"COMPANY_STATUS\"].value_counts(ascending=False).plot(kind = 'barh')\n",
    "plt.show()"
   ]
  },
  {
   "cell_type": "markdown",
   "id": "e48e095b-3963-4989-a185-a253a048ccbf",
   "metadata": {},
   "source": [
    "### Observations\n",
    "```COMPANY_STATUS``` indicates the status of the company, \n",
    "- The largest proportion are the companies that were struck off."
   ]
  },
  {
   "cell_type": "markdown",
   "id": "a23724af-054a-4e8e-b22b-ded6798c1e19",
   "metadata": {},
   "source": [
    "## TYPE"
   ]
  },
  {
   "cell_type": "code",
   "execution_count": 76,
   "id": "46dfce5c-1b47-4724-a2d3-8d8659eac66c",
   "metadata": {},
   "outputs": [
    {
     "data": {
      "text/plain": [
       "0       Nongovernment\n",
       "1       Nongovernment\n",
       "2       Nongovernment\n",
       "3       Nongovernment\n",
       "4       Nongovernment\n",
       "            ...      \n",
       "1845    Nongovernment\n",
       "1846    Nongovernment\n",
       "1847    Nongovernment\n",
       "1848    Nongovernment\n",
       "1849    Nongovernment\n",
       "Name: TYPE, Length: 1850, dtype: object"
      ]
     },
     "execution_count": 76,
     "metadata": {},
     "output_type": "execute_result"
    }
   ],
   "source": [
    "reg_closed_df[\"TYPE\"]"
   ]
  },
  {
   "cell_type": "code",
   "execution_count": 77,
   "id": "32f5f304-d044-4c98-b3a8-d27e1d06f565",
   "metadata": {},
   "outputs": [
    {
     "data": {
      "text/plain": [
       "Nongovernment    1850\n",
       "Name: TYPE, dtype: int64"
      ]
     },
     "execution_count": 77,
     "metadata": {},
     "output_type": "execute_result"
    }
   ],
   "source": [
    "# Check unique\n",
    "reg_closed_df[\"TYPE\"].value_counts(ascending=False).head()"
   ]
  },
  {
   "cell_type": "markdown",
   "id": "d2cc01f9-0ebb-433b-9e0d-db853f8b83b8",
   "metadata": {},
   "source": [
    "### Observations\n",
    "```TYPE``` indicates the type of the company, \n",
    "- All companies are non-government."
   ]
  },
  {
   "cell_type": "markdown",
   "id": "5f7e600b-f6ce-4698-9d58-f435f917ad0f",
   "metadata": {},
   "source": [
    "## DATE_OF_REGISTRATION"
   ]
  },
  {
   "cell_type": "code",
   "execution_count": 78,
   "id": "d55769bc-49c3-42b1-b1f6-2a32627ea58e",
   "metadata": {},
   "outputs": [
    {
     "data": {
      "text/plain": [
       "0       2013-09-05 00:00:00\n",
       "1       2013-05-17 00:00:00\n",
       "2       2013-08-26 00:00:00\n",
       "3       2013-05-24 00:00:00\n",
       "4       2013-05-30 00:00:00\n",
       "               ...         \n",
       "1845    2013-04-22 00:00:00\n",
       "1846    2013-04-23 00:00:00\n",
       "1847    2013-05-02 00:00:00\n",
       "1848    2013-09-06 00:00:00\n",
       "1849    2013-07-17 00:00:00\n",
       "Name: DATE_OF_REGISTRATION, Length: 1850, dtype: object"
      ]
     },
     "execution_count": 78,
     "metadata": {},
     "output_type": "execute_result"
    }
   ],
   "source": [
    "reg_closed_df[\"DATE_OF_REGISTRATION\"]"
   ]
  },
  {
   "cell_type": "code",
   "execution_count": 94,
   "id": "77d85346-953f-49c3-8828-d35891bc054d",
   "metadata": {},
   "outputs": [
    {
     "data": {
      "text/plain": [
       "2010    215\n",
       "2011    197\n",
       "2008    193\n",
       "2007    169\n",
       "2009    149\n",
       "Name: DATE_OF_REGISTRATION, dtype: int64"
      ]
     },
     "execution_count": 94,
     "metadata": {},
     "output_type": "execute_result"
    }
   ],
   "source": [
    "# Check years of registry\n",
    "reg_closed_df[\"DATE_OF_REGISTRATION\"].apply(lambda x: x.year).value_counts(ascending=False).head()"
   ]
  },
  {
   "cell_type": "markdown",
   "id": "512c7726-61dd-4ab6-84bb-49d12547b49e",
   "metadata": {},
   "source": [
    "### Observations\n",
    "```DATE_OF_REGISTRATION``` indicates the date the company was registered.\n",
    "- A large proportion of companies in this dataset were registered in 2010."
   ]
  },
  {
   "cell_type": "markdown",
   "id": "7aed5444-0751-4504-bf1a-c7a36ce1bf89",
   "metadata": {},
   "source": [
    "## LISTED"
   ]
  },
  {
   "cell_type": "code",
   "execution_count": 93,
   "id": "a5c758cc-fe58-4778-b69a-cc03d33acaee",
   "metadata": {},
   "outputs": [
    {
     "data": {
      "text/plain": [
       "0       Unlisted\n",
       "1       Unlisted\n",
       "2       Unlisted\n",
       "3       Unlisted\n",
       "4       Unlisted\n",
       "          ...   \n",
       "1845    Unlisted\n",
       "1846    Unlisted\n",
       "1847    Unlisted\n",
       "1848    Unlisted\n",
       "1849    Unlisted\n",
       "Name: LISTED, Length: 1850, dtype: object"
      ]
     },
     "execution_count": 93,
     "metadata": {},
     "output_type": "execute_result"
    }
   ],
   "source": [
    "reg_closed_df[\"LISTED\"]"
   ]
  },
  {
   "cell_type": "code",
   "execution_count": 95,
   "id": "7ca4c3a8-37e0-45a4-82c0-f6104658b32b",
   "metadata": {},
   "outputs": [
    {
     "data": {
      "text/plain": [
       "Unlisted    1846\n",
       "Listed         2\n",
       "Name: LISTED, dtype: int64"
      ]
     },
     "execution_count": 95,
     "metadata": {},
     "output_type": "execute_result"
    }
   ],
   "source": [
    "# Check unique\n",
    "reg_closed_df[\"LISTED\"].value_counts(ascending=False).head()"
   ]
  },
  {
   "cell_type": "markdown",
   "id": "93c270ad-350e-461a-9dcf-048fbc55a206",
   "metadata": {},
   "source": [
    "### Observations\n",
    "```LISTED``` indicates whether the company is listed.\n",
    "- Most are unlisted, only 2 are listed."
   ]
  },
  {
   "cell_type": "markdown",
   "id": "23df3ae0-9dc6-4bb6-b305-c7b1b7a9826e",
   "metadata": {},
   "source": [
    "## COMPANY_INDICATOR"
   ]
  },
  {
   "cell_type": "code",
   "execution_count": 96,
   "id": "af5e1c36-d4ca-4fea-9369-d976a2bccf7f",
   "metadata": {},
   "outputs": [
    {
     "data": {
      "text/plain": [
       "0       Indian Company\n",
       "1       Indian Company\n",
       "2       Indian Company\n",
       "3       Indian Company\n",
       "4       Indian Company\n",
       "             ...      \n",
       "1845    Indian Company\n",
       "1846    Indian Company\n",
       "1847    Indian Company\n",
       "1848    Indian Company\n",
       "1849    Indian Company\n",
       "Name: COMPANY_INDICATOR, Length: 1850, dtype: object"
      ]
     },
     "execution_count": 96,
     "metadata": {},
     "output_type": "execute_result"
    }
   ],
   "source": [
    "reg_closed_df[\"COMPANY_INDICATOR\"]"
   ]
  },
  {
   "cell_type": "code",
   "execution_count": 97,
   "id": "bf30a5f4-93d9-478f-aa07-dc3c980f2018",
   "metadata": {},
   "outputs": [
    {
     "data": {
      "text/plain": [
       "Indian Company    1850\n",
       "Name: COMPANY_INDICATOR, dtype: int64"
      ]
     },
     "execution_count": 97,
     "metadata": {},
     "output_type": "execute_result"
    }
   ],
   "source": [
    "# Check unique\n",
    "reg_closed_df[\"COMPANY_INDICATOR\"].value_counts(ascending=False).head()"
   ]
  },
  {
   "cell_type": "markdown",
   "id": "a2586f12-03f3-4c51-be03-e793bc7d83c1",
   "metadata": {},
   "source": [
    "### Observations\n",
    "```COMPANY_INDICATOR``` indicates whether the company is Indian.\n",
    "- All are Indian Companies"
   ]
  },
  {
   "cell_type": "markdown",
   "id": "82aca4e4-575a-4ce8-b81f-0c6ec348ef1a",
   "metadata": {},
   "source": [
    "## REGISTERED_STATE"
   ]
  },
  {
   "cell_type": "code",
   "execution_count": 100,
   "id": "a83435c2-ab6b-478d-8bc8-631cebbb2ca4",
   "metadata": {},
   "outputs": [
    {
     "data": {
      "text/plain": [
       "0       Maharashtra\n",
       "1            Kerala\n",
       "2           Gujarat\n",
       "3           Haryana\n",
       "4        Tamil Nadu\n",
       "           ...     \n",
       "1845         Punjab\n",
       "1846         Punjab\n",
       "1847        Haryana\n",
       "1848        Gujarat\n",
       "1849      Rajasthan\n",
       "Name: REGISTERED_STATE, Length: 1850, dtype: object"
      ]
     },
     "execution_count": 100,
     "metadata": {},
     "output_type": "execute_result"
    }
   ],
   "source": [
    "reg_closed_df[\"REGISTERED_STATE\"]"
   ]
  },
  {
   "cell_type": "code",
   "execution_count": 105,
   "id": "58a9f692-8138-4938-a150-56e40503025e",
   "metadata": {},
   "outputs": [
    {
     "data": {
      "text/plain": [
       "Maharashtra          443\n",
       "Delhi                348\n",
       "West Bengal          265\n",
       "Tamil Nadu           148\n",
       "Gujarat              127\n",
       "Madhya Pradesh       105\n",
       "Karnataka             60\n",
       "Rajasthan             58\n",
       "Kerala                42\n",
       "Chandigarh            40\n",
       "Punjab                37\n",
       "Uttar Pradesh         33\n",
       "Haryana               33\n",
       "Goa                   29\n",
       "Chhattisgarh          27\n",
       "Uttarakhand           19\n",
       "Himachal Pradesh      14\n",
       "Jammu and Kashmir     10\n",
       "Pondicherry            7\n",
       "Orissa                 3\n",
       "Telangana              1\n",
       "Tripura                1\n",
       "Name: REGISTERED_STATE, dtype: int64"
      ]
     },
     "execution_count": 105,
     "metadata": {},
     "output_type": "execute_result"
    }
   ],
   "source": [
    "# Value Counts\n",
    "reg_closed_df[\"REGISTERED_STATE\"].value_counts(ascending=False)"
   ]
  },
  {
   "cell_type": "code",
   "execution_count": 109,
   "id": "9e74a66a-1539-4921-9a14-6b1a94041227",
   "metadata": {},
   "outputs": [
    {
     "data": {
      "text/plain": [
       "22"
      ]
     },
     "execution_count": 109,
     "metadata": {},
     "output_type": "execute_result"
    }
   ],
   "source": [
    "len(reg_closed_df[\"REGISTERED_STATE\"].unique())"
   ]
  },
  {
   "cell_type": "markdown",
   "id": "5b9a1bd4-93c9-41b0-a646-4e45fb12c99e",
   "metadata": {},
   "source": [
    "### Observations\n",
    "```REGISTERED_STATE``` indicates where the company is registered.\n",
    "- Most are in urban states, ie. Maharashtra, Delhi.\n",
    "- Only 22 states are listed."
   ]
  },
  {
   "cell_type": "markdown",
   "id": "204d43c2-5041-47fd-8f8e-b964143a39d5",
   "metadata": {},
   "source": [
    "## ROC_CODE"
   ]
  },
  {
   "cell_type": "code",
   "execution_count": 111,
   "id": "0bd22e9e-73a4-47ac-8435-acbd2a835263",
   "metadata": {},
   "outputs": [
    {
     "data": {
      "text/plain": [
       "0           RoC-Mumbai\n",
       "1        ROC-Ernakulam\n",
       "2       RoC-Ahmedabad \n",
       "3            RoC-Delhi\n",
       "4       RoC-Coimbatore\n",
       "             ...      \n",
       "1845    RoC-Chandigarh\n",
       "1846    RoC-Chandigarh\n",
       "1847         RoC-Delhi\n",
       "1848    RoC-Ahmedabad \n",
       "1849        RoC-Jaipur\n",
       "Name: ROC_CODE, Length: 1850, dtype: object"
      ]
     },
     "execution_count": 111,
     "metadata": {},
     "output_type": "execute_result"
    }
   ],
   "source": [
    "reg_closed_df[\"ROC_CODE\"]"
   ]
  },
  {
   "cell_type": "code",
   "execution_count": 113,
   "id": "de14907c-1321-41db-8d69-a5701fa814fd",
   "metadata": {},
   "outputs": [
    {
     "data": {
      "text/plain": [
       "RoC-Delhi               381\n",
       "RoC-Mumbai              354\n",
       "RoC-Kolkata             265\n",
       "RoC-Chennai             129\n",
       "RoC-Ahmedabad           127\n",
       "RoC-Gwalior             105\n",
       "RoC-Pune                 89\n",
       "RoC-Chandigarh           77\n",
       "RoC-Bangalore            60\n",
       "RoC-Jaipur               58\n",
       "ROC-Ernakulam            42\n",
       "RoC-Kanpur               33\n",
       "RoC-Goa                  29\n",
       "RoC-Chhattisgarh         27\n",
       "RoC-Coimbatore           19\n",
       "RoC-Uttarakhand          19\n",
       "RoC-Himachal Pradesh     14\n",
       "RoC-Jammu                10\n",
       "RoC-Pondicherry           7\n",
       "RoC-Cuttack               3\n",
       "RoC-Hyderabad             1\n",
       "RoC-Shillong              1\n",
       "Name: ROC_CODE, dtype: int64"
      ]
     },
     "execution_count": 113,
     "metadata": {},
     "output_type": "execute_result"
    }
   ],
   "source": [
    "# Value Counts\n",
    "reg_closed_df[\"ROC_CODE\"].value_counts(ascending=False)"
   ]
  },
  {
   "cell_type": "code",
   "execution_count": 115,
   "id": "653ad323-1127-4c8f-8c68-fcf013a65ac4",
   "metadata": {},
   "outputs": [
    {
     "data": {
      "text/plain": [
       "22"
      ]
     },
     "execution_count": 115,
     "metadata": {},
     "output_type": "execute_result"
    }
   ],
   "source": [
    "len(reg_closed_df[\"ROC_CODE\"].unique())"
   ]
  },
  {
   "cell_type": "markdown",
   "id": "899162b7-cfe4-4d4b-bcf2-1515f697de60",
   "metadata": {},
   "source": [
    "### Observations\n",
    "```ROC_CODE``` indicates the company's Registrar of Companies code.\n",
    "- Most are in urban states, ie. Delhi, Mubai.\n",
    "- 22 ROC-codes are listed."
   ]
  },
  {
   "cell_type": "markdown",
   "id": "ab95a8c9-e1fd-4341-ba3e-75261349d5eb",
   "metadata": {},
   "source": [
    "## INDUSTRIAL_CLASIFICATION"
   ]
  },
  {
   "cell_type": "code",
   "execution_count": 116,
   "id": "3e0e5521-c72e-47a1-b246-5306d85d365b",
   "metadata": {},
   "outputs": [
    {
     "data": {
      "text/plain": [
       "0       36100\n",
       "1       70100\n",
       "2       17120\n",
       "3       52609\n",
       "4       52500\n",
       "        ...  \n",
       "1845    29119\n",
       "1846    29119\n",
       "1847    70200\n",
       "1848    17200\n",
       "1849    51109\n",
       "Name: INDUSTRIAL_CLASIFICATION, Length: 1850, dtype: object"
      ]
     },
     "execution_count": 116,
     "metadata": {},
     "output_type": "execute_result"
    }
   ],
   "source": [
    "reg_closed_df[\"INDUSTRIAL_CLASIFICATION\"]"
   ]
  },
  {
   "cell_type": "code",
   "execution_count": 117,
   "id": "4f327098-0455-4b64-8f79-37f8808fd60e",
   "metadata": {},
   "outputs": [
    {
     "data": {
      "text/plain": [
       "72200    80\n",
       "51909    79\n",
       "74900    58\n",
       "72900    58\n",
       "51109    55\n",
       "         ..\n",
       "01131     1\n",
       "55200     1\n",
       "24119     1\n",
       "23109     1\n",
       "63011     1\n",
       "Name: INDUSTRIAL_CLASIFICATION, Length: 445, dtype: int64"
      ]
     },
     "execution_count": 117,
     "metadata": {},
     "output_type": "execute_result"
    }
   ],
   "source": [
    "# Value Counts\n",
    "reg_closed_df[\"INDUSTRIAL_CLASIFICATION\"].value_counts(ascending=False)"
   ]
  },
  {
   "cell_type": "markdown",
   "id": "3d5ccae7-339e-43c6-8113-edc2834489e3",
   "metadata": {},
   "source": [
    "### Observations\n",
    "```INDUSTRIAL_CLASIFICATION``` 5 digit code for [national industry classification](http://mospi.nic.in/classification/national-industrial-classification). \n",
    "- ```51909``` refers to Wholesale n.e.c.\n",
    "- A large number of companies are ```72200```."
   ]
  },
  {
   "cell_type": "markdown",
   "id": "d7906692-76ea-437f-be30-e5b64da10811",
   "metadata": {},
   "source": [
    "## DESCRIPTION"
   ]
  },
  {
   "cell_type": "code",
   "execution_count": 119,
   "id": "e6fe31b8-7673-4cee-9f9f-3bdc249a445c",
   "metadata": {},
   "outputs": [
    {
     "data": {
      "text/plain": [
       "0                       Manufacturing (Others)\n",
       "1                      Real Estate and Renting\n",
       "2                     Manufacturing (Textiles)\n",
       "3                                      Trading\n",
       "4                                      Trading\n",
       "                         ...                  \n",
       "1845    Manufacturing (Machinery & Equipments)\n",
       "1846    Manufacturing (Machinery & Equipments)\n",
       "1847                   Real Estate and Renting\n",
       "1848                  Manufacturing (Textiles)\n",
       "1849                                   Trading\n",
       "Name: DESCRIPTION, Length: 1850, dtype: object"
      ]
     },
     "execution_count": 119,
     "metadata": {},
     "output_type": "execute_result"
    }
   ],
   "source": [
    "reg_closed_df[\"DESCRIPTION\"]"
   ]
  },
  {
   "cell_type": "code",
   "execution_count": 120,
   "id": "3e72e81d-4e63-47e9-865c-b44df80d88a9",
   "metadata": {},
   "outputs": [
    {
     "data": {
      "text/plain": [
       "Business Services                                                                                  440\n",
       "Trading                                                                                            309\n",
       "Community, personal & Social Services                                                              164\n",
       "Construction                                                                                       150\n",
       "Real Estate and Renting                                                                            141\n",
       "Manufacturing (Metals & Chemicals, and products thereof)                                           120\n",
       "Manufacturing (Machinery & Equipments)                                                              87\n",
       "Finance                                                                                             77\n",
       "Manufacturing (Textiles)                                                                            59\n",
       "Transport, storage and Communications                                                               58\n",
       "Agriculture and Allied Activities                                                                   56\n",
       "Manufacturing (Food stuffs)                                                                         37\n",
       "Electricity, Gas & Water companies                                                                  36\n",
       "Mining & Quarrying                                                                                  28\n",
       "Manufacturing (Others)                                                                              20\n",
       "Manufacturing (Paper & Paper products, Publishing, printing and reproduction of recorded media)     13\n",
       "Insurance                                                                                            6\n",
       "Manufacturing (Wood Products)                                                                        6\n",
       "Manufacturing (Leather & products thereof)                                                           2\n",
       "Name: DESCRIPTION, dtype: int64"
      ]
     },
     "execution_count": 120,
     "metadata": {},
     "output_type": "execute_result"
    }
   ],
   "source": [
    "# Value Counts\n",
    "reg_closed_df[\"DESCRIPTION\"].value_counts(ascending=False)"
   ]
  },
  {
   "cell_type": "markdown",
   "id": "df8e7b41-857e-450b-899a-cd83f6aa6e1b",
   "metadata": {},
   "source": [
    "### Observations\n",
    "```DESCRIPTION``` Text decription of the company's industry.\n",
    "- A large number of companies are in ```Business Services```."
   ]
  },
  {
   "cell_type": "code",
   "execution_count": null,
   "id": "3d53e083-7ee1-4eea-b64e-c12a463091c6",
   "metadata": {},
   "outputs": [],
   "source": []
  }
 ],
 "metadata": {
  "kernelspec": {
   "display_name": "Python 3 (ipykernel)",
   "language": "python",
   "name": "python3"
  },
  "language_info": {
   "codemirror_mode": {
    "name": "ipython",
    "version": 3
   },
   "file_extension": ".py",
   "mimetype": "text/x-python",
   "name": "python",
   "nbconvert_exporter": "python",
   "pygments_lexer": "ipython3",
   "version": "3.8.12"
  }
 },
 "nbformat": 4,
 "nbformat_minor": 5
}
